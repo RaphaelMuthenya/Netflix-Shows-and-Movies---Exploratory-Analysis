{
 "cells": [
  {
   "cell_type": "code",
   "execution_count": 1,
   "id": "73592c2d-9d5e-4d23-8b9d-a92b60ade05a",
   "metadata": {},
   "outputs": [
    {
     "name": "stdout",
     "output_type": "stream",
     "text": [
      "Requirement already satisfied: pandas in c:\\users\\papaday\\anaconda3\\lib\\site-packages (2.1.4)\n",
      "Requirement already satisfied: numpy in c:\\users\\papaday\\anaconda3\\lib\\site-packages (1.26.4)\n",
      "Requirement already satisfied: matplotlib in c:\\users\\papaday\\anaconda3\\lib\\site-packages (3.8.0)\n",
      "Requirement already satisfied: seaborn in c:\\users\\papaday\\anaconda3\\lib\\site-packages (0.12.2)\n",
      "Requirement already satisfied: python-dateutil>=2.8.2 in c:\\users\\papaday\\anaconda3\\lib\\site-packages (from pandas) (2.8.2)\n",
      "Requirement already satisfied: pytz>=2020.1 in c:\\users\\papaday\\anaconda3\\lib\\site-packages (from pandas) (2023.3.post1)\n",
      "Requirement already satisfied: tzdata>=2022.1 in c:\\users\\papaday\\anaconda3\\lib\\site-packages (from pandas) (2023.3)\n",
      "Requirement already satisfied: contourpy>=1.0.1 in c:\\users\\papaday\\anaconda3\\lib\\site-packages (from matplotlib) (1.2.0)\n",
      "Requirement already satisfied: cycler>=0.10 in c:\\users\\papaday\\anaconda3\\lib\\site-packages (from matplotlib) (0.11.0)\n",
      "Requirement already satisfied: fonttools>=4.22.0 in c:\\users\\papaday\\anaconda3\\lib\\site-packages (from matplotlib) (4.25.0)\n",
      "Requirement already satisfied: kiwisolver>=1.0.1 in c:\\users\\papaday\\anaconda3\\lib\\site-packages (from matplotlib) (1.4.4)\n",
      "Requirement already satisfied: packaging>=20.0 in c:\\users\\papaday\\anaconda3\\lib\\site-packages (from matplotlib) (23.1)\n",
      "Requirement already satisfied: pillow>=6.2.0 in c:\\users\\papaday\\anaconda3\\lib\\site-packages (from matplotlib) (10.2.0)\n",
      "Requirement already satisfied: pyparsing>=2.3.1 in c:\\users\\papaday\\anaconda3\\lib\\site-packages (from matplotlib) (3.0.9)\n",
      "Requirement already satisfied: six>=1.5 in c:\\users\\papaday\\anaconda3\\lib\\site-packages (from python-dateutil>=2.8.2->pandas) (1.16.0)\n",
      "Note: you may need to restart the kernel to use updated packages.\n"
     ]
    }
   ],
   "source": [
    "pip install pandas numpy matplotlib seaborn\n"
   ]
  },
  {
   "cell_type": "code",
   "execution_count": 2,
   "id": "2b076bd2-69cb-47f3-aa6e-5526f33537d6",
   "metadata": {},
   "outputs": [],
   "source": [
    "import pandas as pd\n",
    "import numpy as np\n",
    "import matplotlib.pyplot as plt\n",
    "import seaborn as sns"
   ]
  },
  {
   "cell_type": "code",
   "execution_count": 3,
   "id": "c1d82584-59ce-491e-b518-7c64c6434887",
   "metadata": {},
   "outputs": [
    {
     "data": {
      "text/html": [
       "<div>\n",
       "<style scoped>\n",
       "    .dataframe tbody tr th:only-of-type {\n",
       "        vertical-align: middle;\n",
       "    }\n",
       "\n",
       "    .dataframe tbody tr th {\n",
       "        vertical-align: top;\n",
       "    }\n",
       "\n",
       "    .dataframe thead th {\n",
       "        text-align: right;\n",
       "    }\n",
       "</style>\n",
       "<table border=\"1\" class=\"dataframe\">\n",
       "  <thead>\n",
       "    <tr style=\"text-align: right;\">\n",
       "      <th></th>\n",
       "      <th>show_id</th>\n",
       "      <th>title</th>\n",
       "      <th>director</th>\n",
       "      <th>cast</th>\n",
       "      <th>country</th>\n",
       "      <th>date_added</th>\n",
       "      <th>release_year</th>\n",
       "      <th>rating</th>\n",
       "      <th>duration</th>\n",
       "      <th>listed_in</th>\n",
       "      <th>description</th>\n",
       "      <th>type</th>\n",
       "    </tr>\n",
       "  </thead>\n",
       "  <tbody>\n",
       "    <tr>\n",
       "      <th>0</th>\n",
       "      <td>81193313</td>\n",
       "      <td>Chocolate</td>\n",
       "      <td>NaN</td>\n",
       "      <td>Ha Ji-won, Yoon Kye-sang, Jang Seung-jo, Kang ...</td>\n",
       "      <td>South Korea</td>\n",
       "      <td>November 30, 2019</td>\n",
       "      <td>2019</td>\n",
       "      <td>TV-14</td>\n",
       "      <td>1 Season</td>\n",
       "      <td>International TV Shows, Korean TV Shows, Roman...</td>\n",
       "      <td>Brought together by meaningful meals in the pa...</td>\n",
       "      <td>TV Show</td>\n",
       "    </tr>\n",
       "    <tr>\n",
       "      <th>1</th>\n",
       "      <td>81197050</td>\n",
       "      <td>Guatemala: Heart of the Mayan World</td>\n",
       "      <td>Luis Ara, Ignacio Jaunsolo</td>\n",
       "      <td>Christian Morales</td>\n",
       "      <td>NaN</td>\n",
       "      <td>November 30, 2019</td>\n",
       "      <td>2019</td>\n",
       "      <td>TV-G</td>\n",
       "      <td>67 min</td>\n",
       "      <td>Documentaries, International Movies</td>\n",
       "      <td>From Sierra de las Minas to Esquipulas, explor...</td>\n",
       "      <td>Movie</td>\n",
       "    </tr>\n",
       "    <tr>\n",
       "      <th>2</th>\n",
       "      <td>81213894</td>\n",
       "      <td>The Zoya Factor</td>\n",
       "      <td>Abhishek Sharma</td>\n",
       "      <td>Sonam Kapoor, Dulquer Salmaan, Sanjay Kapoor, ...</td>\n",
       "      <td>India</td>\n",
       "      <td>November 30, 2019</td>\n",
       "      <td>2019</td>\n",
       "      <td>TV-14</td>\n",
       "      <td>135 min</td>\n",
       "      <td>Comedies, Dramas, International Movies</td>\n",
       "      <td>A goofy copywriter unwittingly convinces the I...</td>\n",
       "      <td>Movie</td>\n",
       "    </tr>\n",
       "    <tr>\n",
       "      <th>3</th>\n",
       "      <td>81082007</td>\n",
       "      <td>Atlantics</td>\n",
       "      <td>Mati Diop</td>\n",
       "      <td>Mama Sane, Amadou Mbow, Ibrahima Traore, Nicol...</td>\n",
       "      <td>France, Senegal, Belgium</td>\n",
       "      <td>November 29, 2019</td>\n",
       "      <td>2019</td>\n",
       "      <td>TV-14</td>\n",
       "      <td>106 min</td>\n",
       "      <td>Dramas, Independent Movies, International Movies</td>\n",
       "      <td>Arranged to marry a rich man, young Ada is cru...</td>\n",
       "      <td>Movie</td>\n",
       "    </tr>\n",
       "    <tr>\n",
       "      <th>4</th>\n",
       "      <td>80213643</td>\n",
       "      <td>Chip and Potato</td>\n",
       "      <td>NaN</td>\n",
       "      <td>Abigail Oliver, Andrea Libman, Briana Buckmast...</td>\n",
       "      <td>Canada, United Kingdom</td>\n",
       "      <td>NaN</td>\n",
       "      <td>2019</td>\n",
       "      <td>TV-Y</td>\n",
       "      <td>2 Seasons</td>\n",
       "      <td>Kids' TV</td>\n",
       "      <td>Lovable pug Chip starts kindergarten, makes ne...</td>\n",
       "      <td>TV Show</td>\n",
       "    </tr>\n",
       "  </tbody>\n",
       "</table>\n",
       "</div>"
      ],
      "text/plain": [
       "    show_id                                title                    director  \\\n",
       "0  81193313                            Chocolate                         NaN   \n",
       "1  81197050  Guatemala: Heart of the Mayan World  Luis Ara, Ignacio Jaunsolo   \n",
       "2  81213894                      The Zoya Factor             Abhishek Sharma   \n",
       "3  81082007                            Atlantics                   Mati Diop   \n",
       "4  80213643                      Chip and Potato                         NaN   \n",
       "\n",
       "                                                cast  \\\n",
       "0  Ha Ji-won, Yoon Kye-sang, Jang Seung-jo, Kang ...   \n",
       "1                                  Christian Morales   \n",
       "2  Sonam Kapoor, Dulquer Salmaan, Sanjay Kapoor, ...   \n",
       "3  Mama Sane, Amadou Mbow, Ibrahima Traore, Nicol...   \n",
       "4  Abigail Oliver, Andrea Libman, Briana Buckmast...   \n",
       "\n",
       "                    country         date_added  release_year rating  \\\n",
       "0               South Korea  November 30, 2019          2019  TV-14   \n",
       "1                       NaN  November 30, 2019          2019   TV-G   \n",
       "2                     India  November 30, 2019          2019  TV-14   \n",
       "3  France, Senegal, Belgium  November 29, 2019          2019  TV-14   \n",
       "4    Canada, United Kingdom                NaN          2019   TV-Y   \n",
       "\n",
       "    duration                                          listed_in  \\\n",
       "0   1 Season  International TV Shows, Korean TV Shows, Roman...   \n",
       "1     67 min                Documentaries, International Movies   \n",
       "2    135 min             Comedies, Dramas, International Movies   \n",
       "3    106 min   Dramas, Independent Movies, International Movies   \n",
       "4  2 Seasons                                           Kids' TV   \n",
       "\n",
       "                                         description     type  \n",
       "0  Brought together by meaningful meals in the pa...  TV Show  \n",
       "1  From Sierra de las Minas to Esquipulas, explor...    Movie  \n",
       "2  A goofy copywriter unwittingly convinces the I...    Movie  \n",
       "3  Arranged to marry a rich man, young Ada is cru...    Movie  \n",
       "4  Lovable pug Chip starts kindergarten, makes ne...  TV Show  "
      ]
     },
     "execution_count": 3,
     "metadata": {},
     "output_type": "execute_result"
    }
   ],
   "source": [
    "df = pd.read_csv(\"netflix_titles_nov_2019.csv\")\n",
    "df.head()"
   ]
  },
  {
   "cell_type": "code",
   "execution_count": 4,
   "id": "59d7c760-e3f4-44b8-8977-8652575b8dde",
   "metadata": {},
   "outputs": [
    {
     "data": {
      "text/plain": [
       "Index(['show_id', 'title', 'director', 'cast', 'country', 'date_added',\n",
       "       'release_year', 'rating', 'duration', 'listed_in', 'description',\n",
       "       'type'],\n",
       "      dtype='object')"
      ]
     },
     "execution_count": 4,
     "metadata": {},
     "output_type": "execute_result"
    }
   ],
   "source": [
    "df.keys()\n"
   ]
  },
  {
   "cell_type": "markdown",
   "id": "d7ebaad6-5d73-47fe-bf4a-c78bdf2431da",
   "metadata": {},
   "source": [
    "### Check for missing values"
   ]
  },
  {
   "cell_type": "code",
   "execution_count": 5,
   "id": "d4ca1cd7-49e9-4224-97a3-a31bc72d6aa2",
   "metadata": {},
   "outputs": [
    {
     "name": "stdout",
     "output_type": "stream",
     "text": [
      "show_id            0\n",
      "title              0\n",
      "director        1901\n",
      "cast             556\n",
      "country          427\n",
      "date_added       642\n",
      "release_year       0\n",
      "rating            10\n",
      "duration           0\n",
      "listed_in          0\n",
      "description        0\n",
      "type               0\n",
      "dtype: int64\n"
     ]
    }
   ],
   "source": [
    "print(df.isnull().sum())"
   ]
  },
  {
   "cell_type": "code",
   "execution_count": 6,
   "id": "5b7116fa-3fe6-4331-a7ad-954a758b4ab4",
   "metadata": {},
   "outputs": [],
   "source": [
    "# There are 1901 missing director names, 556 entries missing on cast, 427 on Country, Date added has 642 entries missing and for the rating we have 10 missing."
   ]
  },
  {
   "cell_type": "code",
   "execution_count": 9,
   "id": "433b47a7-c4b9-4473-9cbe-83e7b5f2a8ea",
   "metadata": {},
   "outputs": [],
   "source": [
    "# Fill categorical columns with specified values\n",
    "df[\"country\"].fillna(\"Not Specified\", inplace=True)\n",
    "df[\"director\"].fillna(\"Netflix\", inplace=True)\n",
    "df[\"cast\"].fillna(\"Not Mentioned\", inplace=True)\n",
    "df[\"date_added\"].fillna(\"Not Specified\", inplace=True)\n",
    "\n",
    "# Handle 'rating' column correctly\n",
    "if df[\"rating\"].dtype == \"object\":  # If categorical\n",
    "    df[\"rating\"].fillna(df[\"rating\"].mode()[0], inplace=True)\n",
    "else:  # If numeric\n",
    "    df[\"rating\"].fillna(df[\"rating\"].mean(), inplace=True)\n",
    "\n",
    "# Apply forward fill (using ffill() to avoid the warning)\n",
    "df.ffill(inplace=True)\n"
   ]
  },
  {
   "cell_type": "code",
   "execution_count": 10,
   "id": "36d05baa-9f44-4a19-8fe6-41058e0cdb61",
   "metadata": {},
   "outputs": [
    {
     "name": "stdout",
     "output_type": "stream",
     "text": [
      "show_id         0\n",
      "title           0\n",
      "director        0\n",
      "cast            0\n",
      "country         0\n",
      "date_added      0\n",
      "release_year    0\n",
      "rating          0\n",
      "duration        0\n",
      "listed_in       0\n",
      "description     0\n",
      "type            0\n",
      "dtype: int64\n"
     ]
    }
   ],
   "source": [
    "print(df.isnull().sum())\n"
   ]
  },
  {
   "cell_type": "code",
   "execution_count": 11,
   "id": "86a1eb1e-9ec3-45a7-9412-d5c96978438e",
   "metadata": {},
   "outputs": [
    {
     "data": {
      "text/html": [
       "<div>\n",
       "<style scoped>\n",
       "    .dataframe tbody tr th:only-of-type {\n",
       "        vertical-align: middle;\n",
       "    }\n",
       "\n",
       "    .dataframe tbody tr th {\n",
       "        vertical-align: top;\n",
       "    }\n",
       "\n",
       "    .dataframe thead th {\n",
       "        text-align: right;\n",
       "    }\n",
       "</style>\n",
       "<table border=\"1\" class=\"dataframe\">\n",
       "  <thead>\n",
       "    <tr style=\"text-align: right;\">\n",
       "      <th></th>\n",
       "      <th>show_id</th>\n",
       "      <th>title</th>\n",
       "      <th>director</th>\n",
       "      <th>cast</th>\n",
       "      <th>country</th>\n",
       "      <th>date_added</th>\n",
       "      <th>release_year</th>\n",
       "      <th>rating</th>\n",
       "      <th>duration</th>\n",
       "      <th>listed_in</th>\n",
       "      <th>description</th>\n",
       "      <th>type</th>\n",
       "    </tr>\n",
       "  </thead>\n",
       "  <tbody>\n",
       "    <tr>\n",
       "      <th>0</th>\n",
       "      <td>81193313</td>\n",
       "      <td>Chocolate</td>\n",
       "      <td>Netflix</td>\n",
       "      <td>Ha Ji-won, Yoon Kye-sang, Jang Seung-jo, Kang ...</td>\n",
       "      <td>South Korea</td>\n",
       "      <td>November 30, 2019</td>\n",
       "      <td>2019</td>\n",
       "      <td>TV-14</td>\n",
       "      <td>1 Season</td>\n",
       "      <td>International TV Shows, Korean TV Shows, Roman...</td>\n",
       "      <td>Brought together by meaningful meals in the pa...</td>\n",
       "      <td>TV Show</td>\n",
       "    </tr>\n",
       "    <tr>\n",
       "      <th>1</th>\n",
       "      <td>81197050</td>\n",
       "      <td>Guatemala: Heart of the Mayan World</td>\n",
       "      <td>Luis Ara, Ignacio Jaunsolo</td>\n",
       "      <td>Christian Morales</td>\n",
       "      <td>Not Specified</td>\n",
       "      <td>November 30, 2019</td>\n",
       "      <td>2019</td>\n",
       "      <td>TV-G</td>\n",
       "      <td>67 min</td>\n",
       "      <td>Documentaries, International Movies</td>\n",
       "      <td>From Sierra de las Minas to Esquipulas, explor...</td>\n",
       "      <td>Movie</td>\n",
       "    </tr>\n",
       "    <tr>\n",
       "      <th>2</th>\n",
       "      <td>81213894</td>\n",
       "      <td>The Zoya Factor</td>\n",
       "      <td>Abhishek Sharma</td>\n",
       "      <td>Sonam Kapoor, Dulquer Salmaan, Sanjay Kapoor, ...</td>\n",
       "      <td>India</td>\n",
       "      <td>November 30, 2019</td>\n",
       "      <td>2019</td>\n",
       "      <td>TV-14</td>\n",
       "      <td>135 min</td>\n",
       "      <td>Comedies, Dramas, International Movies</td>\n",
       "      <td>A goofy copywriter unwittingly convinces the I...</td>\n",
       "      <td>Movie</td>\n",
       "    </tr>\n",
       "    <tr>\n",
       "      <th>3</th>\n",
       "      <td>81082007</td>\n",
       "      <td>Atlantics</td>\n",
       "      <td>Mati Diop</td>\n",
       "      <td>Mama Sane, Amadou Mbow, Ibrahima Traore, Nicol...</td>\n",
       "      <td>France, Senegal, Belgium</td>\n",
       "      <td>November 29, 2019</td>\n",
       "      <td>2019</td>\n",
       "      <td>TV-14</td>\n",
       "      <td>106 min</td>\n",
       "      <td>Dramas, Independent Movies, International Movies</td>\n",
       "      <td>Arranged to marry a rich man, young Ada is cru...</td>\n",
       "      <td>Movie</td>\n",
       "    </tr>\n",
       "    <tr>\n",
       "      <th>4</th>\n",
       "      <td>80213643</td>\n",
       "      <td>Chip and Potato</td>\n",
       "      <td>Mati Diop</td>\n",
       "      <td>Abigail Oliver, Andrea Libman, Briana Buckmast...</td>\n",
       "      <td>Canada, United Kingdom</td>\n",
       "      <td>November 29, 2019</td>\n",
       "      <td>2019</td>\n",
       "      <td>TV-Y</td>\n",
       "      <td>2 Seasons</td>\n",
       "      <td>Kids' TV</td>\n",
       "      <td>Lovable pug Chip starts kindergarten, makes ne...</td>\n",
       "      <td>TV Show</td>\n",
       "    </tr>\n",
       "  </tbody>\n",
       "</table>\n",
       "</div>"
      ],
      "text/plain": [
       "    show_id                                title                    director  \\\n",
       "0  81193313                            Chocolate                     Netflix   \n",
       "1  81197050  Guatemala: Heart of the Mayan World  Luis Ara, Ignacio Jaunsolo   \n",
       "2  81213894                      The Zoya Factor             Abhishek Sharma   \n",
       "3  81082007                            Atlantics                   Mati Diop   \n",
       "4  80213643                      Chip and Potato                   Mati Diop   \n",
       "\n",
       "                                                cast  \\\n",
       "0  Ha Ji-won, Yoon Kye-sang, Jang Seung-jo, Kang ...   \n",
       "1                                  Christian Morales   \n",
       "2  Sonam Kapoor, Dulquer Salmaan, Sanjay Kapoor, ...   \n",
       "3  Mama Sane, Amadou Mbow, Ibrahima Traore, Nicol...   \n",
       "4  Abigail Oliver, Andrea Libman, Briana Buckmast...   \n",
       "\n",
       "                    country         date_added  release_year rating  \\\n",
       "0               South Korea  November 30, 2019          2019  TV-14   \n",
       "1             Not Specified  November 30, 2019          2019   TV-G   \n",
       "2                     India  November 30, 2019          2019  TV-14   \n",
       "3  France, Senegal, Belgium  November 29, 2019          2019  TV-14   \n",
       "4    Canada, United Kingdom  November 29, 2019          2019   TV-Y   \n",
       "\n",
       "    duration                                          listed_in  \\\n",
       "0   1 Season  International TV Shows, Korean TV Shows, Roman...   \n",
       "1     67 min                Documentaries, International Movies   \n",
       "2    135 min             Comedies, Dramas, International Movies   \n",
       "3    106 min   Dramas, Independent Movies, International Movies   \n",
       "4  2 Seasons                                           Kids' TV   \n",
       "\n",
       "                                         description     type  \n",
       "0  Brought together by meaningful meals in the pa...  TV Show  \n",
       "1  From Sierra de las Minas to Esquipulas, explor...    Movie  \n",
       "2  A goofy copywriter unwittingly convinces the I...    Movie  \n",
       "3  Arranged to marry a rich man, young Ada is cru...    Movie  \n",
       "4  Lovable pug Chip starts kindergarten, makes ne...  TV Show  "
      ]
     },
     "execution_count": 11,
     "metadata": {},
     "output_type": "execute_result"
    }
   ],
   "source": [
    "df.head()"
   ]
  },
  {
   "cell_type": "code",
   "execution_count": 12,
   "id": "79b0d7de-cd51-4630-916d-3aadd6c03122",
   "metadata": {},
   "outputs": [],
   "source": [
    "df[\"date_added\"] = pd.to_datetime(df[\"date_added\"])"
   ]
  },
  {
   "cell_type": "markdown",
   "id": "9daab3e9-6b66-48cd-9a4f-657752a8ddd7",
   "metadata": {},
   "source": [
    "##### We convert date columns to DateTime format to make it easier to analyze trends over time. This allows us to:\n",
    "Extract Date Components – Easily access year, month, or day (e.g., df[\"date_added\"].dt.year).\n",
    "Sort and Filter – Sort records chronologically or filter by specific time periods.\n",
    "Perform Time-Based Analysis – Identify trends such as seasonal content releases.\n",
    "Improve Performance – DateTime operations are more efficient than string-based date manipulations."
   ]
  },
  {
   "cell_type": "markdown",
   "id": "8ef57dc7-2c61-48f8-a2e9-cbbd0ffd01ea",
   "metadata": {},
   "source": [
    "## Exploratory Data Analysis"
   ]
  },
  {
   "cell_type": "code",
   "execution_count": 15,
   "id": "ff0292de-25dd-4ac0-bd7f-ffc804faec73",
   "metadata": {},
   "outputs": [
    {
     "data": {
      "text/html": [
       "<div>\n",
       "<style scoped>\n",
       "    .dataframe tbody tr th:only-of-type {\n",
       "        vertical-align: middle;\n",
       "    }\n",
       "\n",
       "    .dataframe tbody tr th {\n",
       "        vertical-align: top;\n",
       "    }\n",
       "\n",
       "    .dataframe thead th {\n",
       "        text-align: right;\n",
       "    }\n",
       "</style>\n",
       "<table border=\"1\" class=\"dataframe\">\n",
       "  <thead>\n",
       "    <tr style=\"text-align: right;\">\n",
       "      <th></th>\n",
       "      <th>show_id</th>\n",
       "      <th>title</th>\n",
       "      <th>director</th>\n",
       "      <th>cast</th>\n",
       "      <th>country</th>\n",
       "      <th>date_added</th>\n",
       "      <th>release_year</th>\n",
       "      <th>rating</th>\n",
       "      <th>duration</th>\n",
       "      <th>listed_in</th>\n",
       "      <th>description</th>\n",
       "      <th>type</th>\n",
       "    </tr>\n",
       "  </thead>\n",
       "  <tbody>\n",
       "    <tr>\n",
       "      <th>5832</th>\n",
       "      <td>70141644</td>\n",
       "      <td>Mad Ron's Prevues from Hell</td>\n",
       "      <td>Jim Monaco</td>\n",
       "      <td>Nick Pawlow, Jordu Schell, Jay Kushwara, Micha...</td>\n",
       "      <td>United States</td>\n",
       "      <td>2010-11-01</td>\n",
       "      <td>1987</td>\n",
       "      <td>NR</td>\n",
       "      <td>84 min</td>\n",
       "      <td>Cult Movies, Horror Movies</td>\n",
       "      <td>This collection cherry-picks trailers, forgott...</td>\n",
       "      <td>Movie</td>\n",
       "    </tr>\n",
       "    <tr>\n",
       "      <th>5833</th>\n",
       "      <td>70127998</td>\n",
       "      <td>Splatter</td>\n",
       "      <td>Joe Dante</td>\n",
       "      <td>Corey Feldman, Tony Todd, Tara Leigh, Erin Way...</td>\n",
       "      <td>United States</td>\n",
       "      <td>2009-11-18</td>\n",
       "      <td>2009</td>\n",
       "      <td>TV-14</td>\n",
       "      <td>29 min</td>\n",
       "      <td>Horror Movies</td>\n",
       "      <td>After committing suicide, a washed-up rocker r...</td>\n",
       "      <td>Movie</td>\n",
       "    </tr>\n",
       "    <tr>\n",
       "      <th>5834</th>\n",
       "      <td>70084180</td>\n",
       "      <td>Just Another Love Story</td>\n",
       "      <td>Ole Bornedal</td>\n",
       "      <td>Anders W. Berthelsen, Rebecka Hemse, Nikolaj L...</td>\n",
       "      <td>Denmark</td>\n",
       "      <td>2009-05-05</td>\n",
       "      <td>2007</td>\n",
       "      <td>NR</td>\n",
       "      <td>104 min</td>\n",
       "      <td>Dramas, International Movies</td>\n",
       "      <td>When he causes a car accident that leaves a yo...</td>\n",
       "      <td>Movie</td>\n",
       "    </tr>\n",
       "    <tr>\n",
       "      <th>5835</th>\n",
       "      <td>70157452</td>\n",
       "      <td>Dinner for Five</td>\n",
       "      <td>Ole Bornedal</td>\n",
       "      <td>Anders W. Berthelsen, Rebecka Hemse, Nikolaj L...</td>\n",
       "      <td>United States</td>\n",
       "      <td>2008-02-04</td>\n",
       "      <td>2007</td>\n",
       "      <td>TV-MA</td>\n",
       "      <td>1 Season</td>\n",
       "      <td>Stand-Up Comedy &amp; Talk Shows</td>\n",
       "      <td>In each episode, four celebrities join host Jo...</td>\n",
       "      <td>TV Show</td>\n",
       "    </tr>\n",
       "    <tr>\n",
       "      <th>5836</th>\n",
       "      <td>70053412</td>\n",
       "      <td>To and From New York</td>\n",
       "      <td>Sorin Dan Mihalcescu</td>\n",
       "      <td>Barbara King, Shaana Diya, John Krisiukenas, Y...</td>\n",
       "      <td>United States</td>\n",
       "      <td>2008-01-01</td>\n",
       "      <td>2006</td>\n",
       "      <td>NR</td>\n",
       "      <td>81 min</td>\n",
       "      <td>Dramas, Independent Movies, Thrillers</td>\n",
       "      <td>While covering a story in New York City, a Sea...</td>\n",
       "      <td>Movie</td>\n",
       "    </tr>\n",
       "  </tbody>\n",
       "</table>\n",
       "</div>"
      ],
      "text/plain": [
       "       show_id                        title              director  \\\n",
       "5832  70141644  Mad Ron's Prevues from Hell            Jim Monaco   \n",
       "5833  70127998                     Splatter             Joe Dante   \n",
       "5834  70084180      Just Another Love Story          Ole Bornedal   \n",
       "5835  70157452              Dinner for Five          Ole Bornedal   \n",
       "5836  70053412         To and From New York  Sorin Dan Mihalcescu   \n",
       "\n",
       "                                                   cast        country  \\\n",
       "5832  Nick Pawlow, Jordu Schell, Jay Kushwara, Micha...  United States   \n",
       "5833  Corey Feldman, Tony Todd, Tara Leigh, Erin Way...  United States   \n",
       "5834  Anders W. Berthelsen, Rebecka Hemse, Nikolaj L...        Denmark   \n",
       "5835  Anders W. Berthelsen, Rebecka Hemse, Nikolaj L...  United States   \n",
       "5836  Barbara King, Shaana Diya, John Krisiukenas, Y...  United States   \n",
       "\n",
       "     date_added  release_year rating  duration  \\\n",
       "5832 2010-11-01          1987     NR    84 min   \n",
       "5833 2009-11-18          2009  TV-14    29 min   \n",
       "5834 2009-05-05          2007     NR   104 min   \n",
       "5835 2008-02-04          2007  TV-MA  1 Season   \n",
       "5836 2008-01-01          2006     NR    81 min   \n",
       "\n",
       "                                  listed_in  \\\n",
       "5832             Cult Movies, Horror Movies   \n",
       "5833                          Horror Movies   \n",
       "5834           Dramas, International Movies   \n",
       "5835           Stand-Up Comedy & Talk Shows   \n",
       "5836  Dramas, Independent Movies, Thrillers   \n",
       "\n",
       "                                            description     type  \n",
       "5832  This collection cherry-picks trailers, forgott...    Movie  \n",
       "5833  After committing suicide, a washed-up rocker r...    Movie  \n",
       "5834  When he causes a car accident that leaves a yo...    Movie  \n",
       "5835  In each episode, four celebrities join host Jo...  TV Show  \n",
       "5836  While covering a story in New York City, a Sea...    Movie  "
      ]
     },
     "execution_count": 15,
     "metadata": {},
     "output_type": "execute_result"
    }
   ],
   "source": [
    "(df.head())\n",
    "\n",
    "\n",
    "(df.tail())"
   ]
  },
  {
   "cell_type": "code",
   "execution_count": 18,
   "id": "e24330b6-be51-4e35-ac67-62f6557101bd",
   "metadata": {},
   "outputs": [
    {
     "data": {
      "text/plain": [
       "(5837, 12)"
      ]
     },
     "execution_count": 18,
     "metadata": {},
     "output_type": "execute_result"
    }
   ],
   "source": [
    "df.shape"
   ]
  },
  {
   "cell_type": "code",
   "execution_count": 21,
   "id": "f78954e6-d67b-4b74-ad3a-3033c5cc95ca",
   "metadata": {},
   "outputs": [
    {
     "name": "stdout",
     "output_type": "stream",
     "text": [
      "<class 'pandas.core.frame.DataFrame'>\n",
      "RangeIndex: 5837 entries, 0 to 5836\n",
      "Data columns (total 12 columns):\n",
      " #   Column        Non-Null Count  Dtype         \n",
      "---  ------        --------------  -----         \n",
      " 0   show_id       5837 non-null   int64         \n",
      " 1   title         5837 non-null   object        \n",
      " 2   director      5837 non-null   object        \n",
      " 3   cast          5837 non-null   object        \n",
      " 4   country       5837 non-null   object        \n",
      " 5   date_added    5837 non-null   datetime64[ns]\n",
      " 6   release_year  5837 non-null   int64         \n",
      " 7   rating        5837 non-null   object        \n",
      " 8   duration      5837 non-null   object        \n",
      " 9   listed_in     5837 non-null   object        \n",
      " 10  description   5837 non-null   object        \n",
      " 11  type          5837 non-null   object        \n",
      "dtypes: datetime64[ns](1), int64(2), object(9)\n",
      "memory usage: 547.3+ KB\n",
      "None\n"
     ]
    }
   ],
   "source": [
    "print(df.info())"
   ]
  },
  {
   "cell_type": "code",
   "execution_count": 22,
   "id": "ac7d69bc-5497-421e-8882-7639910659e2",
   "metadata": {},
   "outputs": [
    {
     "data": {
      "text/html": [
       "<div>\n",
       "<style scoped>\n",
       "    .dataframe tbody tr th:only-of-type {\n",
       "        vertical-align: middle;\n",
       "    }\n",
       "\n",
       "    .dataframe tbody tr th {\n",
       "        vertical-align: top;\n",
       "    }\n",
       "\n",
       "    .dataframe thead th {\n",
       "        text-align: right;\n",
       "    }\n",
       "</style>\n",
       "<table border=\"1\" class=\"dataframe\">\n",
       "  <thead>\n",
       "    <tr style=\"text-align: right;\">\n",
       "      <th></th>\n",
       "      <th>show_id</th>\n",
       "      <th>title</th>\n",
       "      <th>director</th>\n",
       "      <th>cast</th>\n",
       "      <th>country</th>\n",
       "      <th>date_added</th>\n",
       "      <th>release_year</th>\n",
       "      <th>rating</th>\n",
       "      <th>duration</th>\n",
       "      <th>listed_in</th>\n",
       "      <th>description</th>\n",
       "      <th>type</th>\n",
       "    </tr>\n",
       "  </thead>\n",
       "  <tbody>\n",
       "    <tr>\n",
       "      <th>0</th>\n",
       "      <td>81193313</td>\n",
       "      <td>Chocolate</td>\n",
       "      <td>Netflix</td>\n",
       "      <td>Ha Ji-won, Yoon Kye-sang, Jang Seung-jo, Kang ...</td>\n",
       "      <td>South Korea</td>\n",
       "      <td>2019-11-30</td>\n",
       "      <td>2019</td>\n",
       "      <td>TV-14</td>\n",
       "      <td>1 Season</td>\n",
       "      <td>International TV Shows, Korean TV Shows, Roman...</td>\n",
       "      <td>Brought together by meaningful meals in the pa...</td>\n",
       "      <td>TV Show</td>\n",
       "    </tr>\n",
       "    <tr>\n",
       "      <th>1</th>\n",
       "      <td>81197050</td>\n",
       "      <td>Guatemala: Heart of the Mayan World</td>\n",
       "      <td>Luis Ara, Ignacio Jaunsolo</td>\n",
       "      <td>Christian Morales</td>\n",
       "      <td>Not Specified</td>\n",
       "      <td>2019-11-30</td>\n",
       "      <td>2019</td>\n",
       "      <td>TV-G</td>\n",
       "      <td>67 min</td>\n",
       "      <td>Documentaries, International Movies</td>\n",
       "      <td>From Sierra de las Minas to Esquipulas, explor...</td>\n",
       "      <td>Movie</td>\n",
       "    </tr>\n",
       "    <tr>\n",
       "      <th>2</th>\n",
       "      <td>81213894</td>\n",
       "      <td>The Zoya Factor</td>\n",
       "      <td>Abhishek Sharma</td>\n",
       "      <td>Sonam Kapoor, Dulquer Salmaan, Sanjay Kapoor, ...</td>\n",
       "      <td>India</td>\n",
       "      <td>2019-11-30</td>\n",
       "      <td>2019</td>\n",
       "      <td>TV-14</td>\n",
       "      <td>135 min</td>\n",
       "      <td>Comedies, Dramas, International Movies</td>\n",
       "      <td>A goofy copywriter unwittingly convinces the I...</td>\n",
       "      <td>Movie</td>\n",
       "    </tr>\n",
       "    <tr>\n",
       "      <th>3</th>\n",
       "      <td>81082007</td>\n",
       "      <td>Atlantics</td>\n",
       "      <td>Mati Diop</td>\n",
       "      <td>Mama Sane, Amadou Mbow, Ibrahima Traore, Nicol...</td>\n",
       "      <td>France, Senegal, Belgium</td>\n",
       "      <td>2019-11-29</td>\n",
       "      <td>2019</td>\n",
       "      <td>TV-14</td>\n",
       "      <td>106 min</td>\n",
       "      <td>Dramas, Independent Movies, International Movies</td>\n",
       "      <td>Arranged to marry a rich man, young Ada is cru...</td>\n",
       "      <td>Movie</td>\n",
       "    </tr>\n",
       "    <tr>\n",
       "      <th>4</th>\n",
       "      <td>80213643</td>\n",
       "      <td>Chip and Potato</td>\n",
       "      <td>Mati Diop</td>\n",
       "      <td>Abigail Oliver, Andrea Libman, Briana Buckmast...</td>\n",
       "      <td>Canada, United Kingdom</td>\n",
       "      <td>2019-11-29</td>\n",
       "      <td>2019</td>\n",
       "      <td>TV-Y</td>\n",
       "      <td>2 Seasons</td>\n",
       "      <td>Kids' TV</td>\n",
       "      <td>Lovable pug Chip starts kindergarten, makes ne...</td>\n",
       "      <td>TV Show</td>\n",
       "    </tr>\n",
       "    <tr>\n",
       "      <th>...</th>\n",
       "      <td>...</td>\n",
       "      <td>...</td>\n",
       "      <td>...</td>\n",
       "      <td>...</td>\n",
       "      <td>...</td>\n",
       "      <td>...</td>\n",
       "      <td>...</td>\n",
       "      <td>...</td>\n",
       "      <td>...</td>\n",
       "      <td>...</td>\n",
       "      <td>...</td>\n",
       "      <td>...</td>\n",
       "    </tr>\n",
       "    <tr>\n",
       "      <th>5832</th>\n",
       "      <td>70141644</td>\n",
       "      <td>Mad Ron's Prevues from Hell</td>\n",
       "      <td>Jim Monaco</td>\n",
       "      <td>Nick Pawlow, Jordu Schell, Jay Kushwara, Micha...</td>\n",
       "      <td>United States</td>\n",
       "      <td>2010-11-01</td>\n",
       "      <td>1987</td>\n",
       "      <td>NR</td>\n",
       "      <td>84 min</td>\n",
       "      <td>Cult Movies, Horror Movies</td>\n",
       "      <td>This collection cherry-picks trailers, forgott...</td>\n",
       "      <td>Movie</td>\n",
       "    </tr>\n",
       "    <tr>\n",
       "      <th>5833</th>\n",
       "      <td>70127998</td>\n",
       "      <td>Splatter</td>\n",
       "      <td>Joe Dante</td>\n",
       "      <td>Corey Feldman, Tony Todd, Tara Leigh, Erin Way...</td>\n",
       "      <td>United States</td>\n",
       "      <td>2009-11-18</td>\n",
       "      <td>2009</td>\n",
       "      <td>TV-14</td>\n",
       "      <td>29 min</td>\n",
       "      <td>Horror Movies</td>\n",
       "      <td>After committing suicide, a washed-up rocker r...</td>\n",
       "      <td>Movie</td>\n",
       "    </tr>\n",
       "    <tr>\n",
       "      <th>5834</th>\n",
       "      <td>70084180</td>\n",
       "      <td>Just Another Love Story</td>\n",
       "      <td>Ole Bornedal</td>\n",
       "      <td>Anders W. Berthelsen, Rebecka Hemse, Nikolaj L...</td>\n",
       "      <td>Denmark</td>\n",
       "      <td>2009-05-05</td>\n",
       "      <td>2007</td>\n",
       "      <td>NR</td>\n",
       "      <td>104 min</td>\n",
       "      <td>Dramas, International Movies</td>\n",
       "      <td>When he causes a car accident that leaves a yo...</td>\n",
       "      <td>Movie</td>\n",
       "    </tr>\n",
       "    <tr>\n",
       "      <th>5835</th>\n",
       "      <td>70157452</td>\n",
       "      <td>Dinner for Five</td>\n",
       "      <td>Ole Bornedal</td>\n",
       "      <td>Anders W. Berthelsen, Rebecka Hemse, Nikolaj L...</td>\n",
       "      <td>United States</td>\n",
       "      <td>2008-02-04</td>\n",
       "      <td>2007</td>\n",
       "      <td>TV-MA</td>\n",
       "      <td>1 Season</td>\n",
       "      <td>Stand-Up Comedy &amp; Talk Shows</td>\n",
       "      <td>In each episode, four celebrities join host Jo...</td>\n",
       "      <td>TV Show</td>\n",
       "    </tr>\n",
       "    <tr>\n",
       "      <th>5836</th>\n",
       "      <td>70053412</td>\n",
       "      <td>To and From New York</td>\n",
       "      <td>Sorin Dan Mihalcescu</td>\n",
       "      <td>Barbara King, Shaana Diya, John Krisiukenas, Y...</td>\n",
       "      <td>United States</td>\n",
       "      <td>2008-01-01</td>\n",
       "      <td>2006</td>\n",
       "      <td>NR</td>\n",
       "      <td>81 min</td>\n",
       "      <td>Dramas, Independent Movies, Thrillers</td>\n",
       "      <td>While covering a story in New York City, a Sea...</td>\n",
       "      <td>Movie</td>\n",
       "    </tr>\n",
       "  </tbody>\n",
       "</table>\n",
       "<p>5837 rows × 12 columns</p>\n",
       "</div>"
      ],
      "text/plain": [
       "       show_id                                title  \\\n",
       "0     81193313                            Chocolate   \n",
       "1     81197050  Guatemala: Heart of the Mayan World   \n",
       "2     81213894                      The Zoya Factor   \n",
       "3     81082007                            Atlantics   \n",
       "4     80213643                      Chip and Potato   \n",
       "...        ...                                  ...   \n",
       "5832  70141644          Mad Ron's Prevues from Hell   \n",
       "5833  70127998                             Splatter   \n",
       "5834  70084180              Just Another Love Story   \n",
       "5835  70157452                      Dinner for Five   \n",
       "5836  70053412                 To and From New York   \n",
       "\n",
       "                        director  \\\n",
       "0                        Netflix   \n",
       "1     Luis Ara, Ignacio Jaunsolo   \n",
       "2                Abhishek Sharma   \n",
       "3                      Mati Diop   \n",
       "4                      Mati Diop   \n",
       "...                          ...   \n",
       "5832                  Jim Monaco   \n",
       "5833                   Joe Dante   \n",
       "5834                Ole Bornedal   \n",
       "5835                Ole Bornedal   \n",
       "5836        Sorin Dan Mihalcescu   \n",
       "\n",
       "                                                   cast  \\\n",
       "0     Ha Ji-won, Yoon Kye-sang, Jang Seung-jo, Kang ...   \n",
       "1                                     Christian Morales   \n",
       "2     Sonam Kapoor, Dulquer Salmaan, Sanjay Kapoor, ...   \n",
       "3     Mama Sane, Amadou Mbow, Ibrahima Traore, Nicol...   \n",
       "4     Abigail Oliver, Andrea Libman, Briana Buckmast...   \n",
       "...                                                 ...   \n",
       "5832  Nick Pawlow, Jordu Schell, Jay Kushwara, Micha...   \n",
       "5833  Corey Feldman, Tony Todd, Tara Leigh, Erin Way...   \n",
       "5834  Anders W. Berthelsen, Rebecka Hemse, Nikolaj L...   \n",
       "5835  Anders W. Berthelsen, Rebecka Hemse, Nikolaj L...   \n",
       "5836  Barbara King, Shaana Diya, John Krisiukenas, Y...   \n",
       "\n",
       "                       country date_added  release_year rating   duration  \\\n",
       "0                  South Korea 2019-11-30          2019  TV-14   1 Season   \n",
       "1                Not Specified 2019-11-30          2019   TV-G     67 min   \n",
       "2                        India 2019-11-30          2019  TV-14    135 min   \n",
       "3     France, Senegal, Belgium 2019-11-29          2019  TV-14    106 min   \n",
       "4       Canada, United Kingdom 2019-11-29          2019   TV-Y  2 Seasons   \n",
       "...                        ...        ...           ...    ...        ...   \n",
       "5832             United States 2010-11-01          1987     NR     84 min   \n",
       "5833             United States 2009-11-18          2009  TV-14     29 min   \n",
       "5834                   Denmark 2009-05-05          2007     NR    104 min   \n",
       "5835             United States 2008-02-04          2007  TV-MA   1 Season   \n",
       "5836             United States 2008-01-01          2006     NR     81 min   \n",
       "\n",
       "                                              listed_in  \\\n",
       "0     International TV Shows, Korean TV Shows, Roman...   \n",
       "1                   Documentaries, International Movies   \n",
       "2                Comedies, Dramas, International Movies   \n",
       "3      Dramas, Independent Movies, International Movies   \n",
       "4                                              Kids' TV   \n",
       "...                                                 ...   \n",
       "5832                         Cult Movies, Horror Movies   \n",
       "5833                                      Horror Movies   \n",
       "5834                       Dramas, International Movies   \n",
       "5835                       Stand-Up Comedy & Talk Shows   \n",
       "5836              Dramas, Independent Movies, Thrillers   \n",
       "\n",
       "                                            description     type  \n",
       "0     Brought together by meaningful meals in the pa...  TV Show  \n",
       "1     From Sierra de las Minas to Esquipulas, explor...    Movie  \n",
       "2     A goofy copywriter unwittingly convinces the I...    Movie  \n",
       "3     Arranged to marry a rich man, young Ada is cru...    Movie  \n",
       "4     Lovable pug Chip starts kindergarten, makes ne...  TV Show  \n",
       "...                                                 ...      ...  \n",
       "5832  This collection cherry-picks trailers, forgott...    Movie  \n",
       "5833  After committing suicide, a washed-up rocker r...    Movie  \n",
       "5834  When he causes a car accident that leaves a yo...    Movie  \n",
       "5835  In each episode, four celebrities join host Jo...  TV Show  \n",
       "5836  While covering a story in New York City, a Sea...    Movie  \n",
       "\n",
       "[5837 rows x 12 columns]"
      ]
     },
     "execution_count": 22,
     "metadata": {},
     "output_type": "execute_result"
    }
   ],
   "source": [
    "df\n"
   ]
  },
  {
   "cell_type": "markdown",
   "id": "bdbcf390-4ca9-4709-8430-065287186e29",
   "metadata": {},
   "source": [
    "## Content Distribution"
   ]
  },
  {
   "cell_type": "code",
   "execution_count": 23,
   "id": "10d9de1e-5523-4534-91b3-2e800902bb04",
   "metadata": {},
   "outputs": [
    {
     "data": {
      "image/png": "[encoded data removed]",
      "text/plain": [
       "<Figure size 800x500 with 1 Axes>"
      ]
     },
     "metadata": {},
     "output_type": "display_data"
    }
   ],
   "source": [
    "df[\"type\"].value_counts().plot(kind=\"bar\", title=\"Distribution of Movies vs. TV Shows\", figsize=(8,5))\n",
    "plt.xlabel(\"Type\")\n",
    "plt.ylabel(\"Count\")\n",
    "plt.show()"
   ]
  },
  {
   "cell_type": "markdown",
   "id": "6a7f9038-75e4-40ee-9d36-8564fd7cda0c",
   "metadata": {},
   "source": [
    "## Content Release Trends Over Time"
   ]
  },
  {
   "cell_type": "code",
   "execution_count": 24,
   "id": "f66aa7cc-fc7a-412a-a47a-9cf1706b1840",
   "metadata": {},
   "outputs": [
    {
     "data": {
      "image/png": "[encoded data removed]",
      "text/plain": [
       "<Figure size 1000x500 with 1 Axes>"
      ]
     },
     "metadata": {},
     "output_type": "display_data"
    }
   ],
   "source": [
    "df.groupby(\"release_year\")[\"title\"].count().plot(figsize=(10, 5), title=\"Content Released Per Year\")\n",
    "plt.xlabel(\"Year\")\n",
    "plt.ylabel(\"Count\")\n",
    "plt.show()"
   ]
  },
  {
   "cell_type": "code",
   "execution_count": 29,
   "id": "ece2304d-2abb-40fc-ad1e-09388e919f97",
   "metadata": {},
   "outputs": [
    {
     "data": {
      "image/png": "[encoded data removed]",
      "text/plain": [
       "<Figure size 1200x600 with 1 Axes>"
      ]
     },
     "metadata": {},
     "output_type": "display_data"
    }
   ],
   "source": [
    "df.groupby(\"release_year\")[\"title\"].count().plot(\n",
    "    kind=\"line\", color=\"red\", figsize=(12, 6),marker=\"x\", grid=True,\n",
    "    title=\"Content Released Per Year\"\n",
    ")\n",
    "plt.xlabel(\"Year\")\n",
    "plt.ylabel(\"Number of Titles\")\n",
    "plt.show()"
   ]
  },
  {
   "cell_type": "markdown",
   "id": "6b30f957-e0b3-4617-b626-c32ded0af1f1",
   "metadata": {},
   "source": [
    "## Most common genres"
   ]
  },
  {
   "cell_type": "code",
   "execution_count": 30,
   "id": "7e11339d-02f2-415b-a2ec-6d3c9a8ad5b1",
   "metadata": {},
   "outputs": [
    {
     "data": {
      "image/png": "[encoded data removed]",
      "text/plain": [
       "<Figure size 800x500 with 1 Axes>"
      ]
     },
     "metadata": {},
     "output_type": "display_data"
    }
   ],
   "source": [
    "genre_counts = df[\"listed_in\"].str.split(\", \").explode().value_counts().head(10)\n",
    "genre_counts.plot(kind=\"bar\", title=\"Top 10 Most Common Genres\", figsize=(8,5))\n",
    "plt.xlabel(\"Genre\")\n",
    "plt.ylabel(\"Count\")\n",
    "plt.show()"
   ]
  },
  {
   "cell_type": "markdown",
   "id": "8ae4b7e0-cb82-46e6-9b8a-cf141647fd91",
   "metadata": {},
   "source": [
    "## Movie Duration"
   ]
  },
  {
   "cell_type": "code",
   "execution_count": 34,
   "id": "7e82eb65-fc7a-45f5-8dc8-26f5fc80950f",
   "metadata": {},
   "outputs": [
    {
     "name": "stderr",
     "output_type": "stream",
     "text": [
      "C:\\Users\\PapaDay\\anaconda3\\Lib\\site-packages\\seaborn\\_oldcore.py:1119: FutureWarning: use_inf_as_na option is deprecated and will be removed in a future version. Convert inf values to NaN before operating instead.\n",
      "  with pd.option_context('mode.use_inf_as_na', True):\n"
     ]
    },
    {
     "data": {
      "image/png": "[encoded data removed]",
      "text/plain": [
       "<Figure size 640x480 with 1 Axes>"
      ]
     },
     "metadata": {},
     "output_type": "display_data"
    }
   ],
   "source": [
    "df.replace([np.inf, -np.inf], np.nan, inplace=True)\n",
    "\n",
    "sns.histplot(df[df[\"type\"] == \"Movie\"][\"duration\"].dropna().str.replace(\" min\", \"\").astype(float), bins=30, kde=True)\n",
    "plt.title(\"Distribution of Movie Durations\")\n",
    "plt.xlabel(\"Duration (minutes)\")\n",
    "plt.show()"
   ]
  },
  {
   "cell_type": "markdown",
   "id": "f800874d-1c30-43fb-8eae-8e261091e798",
   "metadata": {},
   "source": [
    "##  Country-wise Content Production"
   ]
  },
  {
   "cell_type": "code",
   "execution_count": 36,
   "id": "40313d6d-2bb6-4960-b880-322c21edbeab",
   "metadata": {},
   "outputs": [
    {
     "data": {
      "image/png": "[encoded data removed]",
      "text/plain": [
       "<Figure size 800x500 with 1 Axes>"
      ]
     },
     "metadata": {},
     "output_type": "display_data"
    }
   ],
   "source": [
    "top_countries = df[\"country\"].value_counts().head(10)\n",
    "top_countries.plot(kind=\"bar\", title=\"Top 10 Content Producing Countries\", figsize=(8,5))\n",
    "plt.xlabel(\"Country\")\n",
    "plt.ylabel(\"Count\")\n",
    "plt.show()"
   ]
  },
  {
   "cell_type": "code",
   "execution_count": 40,
   "id": "e3596d6f-a28d-477b-9c46-a251c8f2e01c",
   "metadata": {},
   "outputs": [
    {
     "data": {
      "application/vnd.plotly.v1+json": {
       "config": {
        "plotlyServerURL": "https://plot.ly"
       },
       "data": [
        {
         "coloraxis": "coloraxis",
         "geo": "geo",
         "hovertemplate": "country=%{location}<br>count=%{z}<extra></extra>",
         "locationmode": "country names",
         "locations": [
          "United States",
          "India",
          "Not Specified",
          "United Kingdom",
          "Japan",
          "Canada",
          "South Korea",
          "Spain",
          "France",
          "Mexico",
          "Turkey",
          "Australia",
          "Taiwan",
          "Hong Kong",
          "Thailand",
          "Egypt",
          "China",
          "Brazil",
          "Indonesia",
          "Philippines",
          "Germany",
          "United Kingdom, United States",
          "Argentina",
          "Canada, United States",
          "United States, Canada",
          "United States, United Kingdom",
          "Nigeria",
          "Colombia",
          "France, Belgium",
          "Italy",
          "Pakistan",
          "Malaysia",
          "Hong Kong, China",
          "China, Hong Kong",
          "Singapore",
          "Russia",
          "Israel",
          "Denmark",
          "United States, Japan",
          "Chile",
          "Netherlands",
          "Poland",
          "Ireland",
          "Mexico, United States",
          "United States, Australia",
          "United States, France",
          "United States, Germany",
          "United States, Mexico",
          "New Zealand",
          "Australia, United States",
          "Norway",
          "Sweden",
          "Argentina, Spain",
          "India, United States",
          "United States, France, Japan",
          "United Kingdom, France",
          "Japan, United States",
          "Belgium",
          "United States, India",
          "Spain, France",
          "Lebanon",
          "Germany, United States",
          "United States, China",
          "South Korea, United States",
          "Vietnam",
          "United States, Czech Republic",
          "United States, United Kingdom, Australia",
          "Italy, France",
          "India, France",
          "Romania",
          "United Kingdom, Canada, United States",
          "South Africa",
          "France, United States",
          "United Arab Emirates",
          "United Kingdom, United States, Spain, Germany, Greece, Canada",
          "Peru",
          "United States, Italy",
          "France, Canada",
          "India, Turkey",
          "United States, United Kingdom, France",
          "Bulgaria, United States",
          "United States, New Zealand",
          "United States, Spain",
          "Canada, United Kingdom, United States",
          "Australia, United Arab Emirates",
          "Sweden, United States",
          "Italy, United States",
          "Belgium, France",
          "United Kingdom, Germany",
          "United States, United Arab Emirates",
          "Iceland",
          "United States, Sweden",
          "Hong Kong, United States",
          "United Kingdom, Canada",
          "United Kingdom, France, United States",
          "United States, Brazil, South Korea, Mexico, Japan, Germany",
          "Canada, United Kingdom",
          "Ukraine",
          "Spain, Argentina",
          "Israel, United States",
          "United States, Bulgaria",
          "United States, Japan, Canada",
          "United Kingdom, India, United States",
          "Canada, Australia",
          "Argentina, Italy",
          "Czech Republic, United States",
          "Brazil, France",
          "United States, South Korea, China",
          "United Kingdom, India",
          "Germany, Australia",
          "United States, South Africa",
          "Colombia, Mexico, United States",
          "Indonesia, Singapore",
          "Austria",
          "Denmark, United States",
          "United Kingdom, Ireland",
          "Switzerland",
          "United States, United Kingdom, Germany",
          "United Kingdom, France, Belgium",
          "India, Soviet Union",
          "Germany, United Kingdom",
          "Australia, Canada",
          "United States, Ireland",
          "Ireland, United Kingdom, United States",
          "United Kingdom, Japan, United States",
          "United States, Chile",
          "South Africa, United States",
          "Hungary",
          "United Arab Emirates, United States",
          "Canada, United States, United Kingdom",
          "Singapore, United States",
          "United States, Germany, Canada",
          "Germany, United States, Canada",
          "Switzerland, United States",
          "Uruguay",
          "Poland, United States",
          "Belgium, Netherlands",
          "France, South Korea, Japan",
          "Spain, Mexico",
          "India, Canada",
          "France, Morocco",
          "United States, France, Canada, Lebanon, Qatar",
          "Switzerland, France",
          "India, Switzerland",
          "Ireland, United Kingdom",
          "France, United Kingdom, United States",
          "South Africa, China, United States",
          "Norway, Germany",
          "Canada, India, Thailand, United States, United Arab Emirates",
          "Germany, Jordan, Netherlands",
          "Turkey, France, Germany, Poland",
          "France, United Kingdom",
          "Georgia, Germany, France",
          "Canada, Ireland, United States",
          "United Kingdom, Canada, Japan",
          "India, Malaysia",
          "Canada, India",
          "Australia, India",
          "United Arab Emirates, Romania",
          "United States, Brazil",
          "Spain, Belgium, Switzerland, United States, China, United Kingdom",
          "Pakistan, United States",
          "China, India, Nepal",
          "Venezuela",
          "United Kingdom, China, Canada, Indonesia, Singapore, United States",
          "Australia, New Zealand, United States",
          "France, Canada, Belgium",
          "Cambodia, United States",
          "India, Mexico",
          "Saudi Arabia",
          "Ireland, Canada, United States, United Kingdom",
          "Canada, France",
          "Guatemala",
          "Ireland, Canada, Luxembourg, United States",
          "United Kingdom, South Africa, Australia, United States",
          "Bulgaria, United States, Spain, Canada",
          "Netherlands, Denmark, France, Germany",
          "France, Netherlands, South Africa, Finland",
          "Bulgaria",
          "Serbia, South Korea, Slovenia",
          "Somalia, Kenya, Sudan, South Africa, United States",
          "Norway, Germany, Sweden",
          "Turkey, India",
          "United States, Australia, South Africa, United Kingdom",
          "Norway, Sweden",
          "Venezuela, Colombia",
          "Netherlands, Belgium, Germany, Jordan",
          "Italy, Turkey",
          "Argentina, Brazil, France, Poland, Germany, Denmark",
          "Philippines, Qatar",
          "United Kingdom, Spain, United States, Germany",
          "United Kingdom, Italy, France, United States",
          "United States, United Kingdom, Spain, South Korea",
          "United States, Israel, Italy, South Africa",
          "Mexico, Spain",
          "United Kingdom, India, Sweden",
          "Spain, Colombia",
          "South Korea, China, United States",
          "United States, Nicaragua",
          "Australia, New Zealand",
          "Canada, Germany, South Africa",
          "Thailand, United States",
          "Italy, Canada, France",
          "Denmark, Germany, Belgium, United Kingdom, France",
          "Canada, France, Italy, Morocco, United States",
          "Germany, Belgium",
          "United States, India, Bangladesh",
          "Czech Republic, United Kingdom, France",
          "Brazil, India, China, United States",
          "United Kingdom, United States, Dominican Republic",
          "Soviet Union, India",
          "South Africa, Germany, Netherlands, France",
          "United States, Canada, Belgium, United Kingdom",
          "Portugal, France, Poland, United States",
          "New Zealand, United Kingdom",
          "Georgia",
          "United Kingdom, Namibia, South Africa, Zimbabwe, United States",
          "United States, Denmark",
          "Brazil, Netherlands, United States, Colombia, Austria, Germany",
          "United States, United Kingdom, Denmark, Sweden",
          "Spain, Cuba",
          "Chile, United States, France",
          "United States, Russia",
          "Ireland, South Africa",
          "Netherlands, Denmark, South Africa",
          "United Kingdom, Germany, Canada",
          "United Kingdom, Australia, Canada, United States",
          "France, Qatar",
          "Peru, United States, United Kingdom",
          "United States, Kazakhstan",
          "France, Germany",
          "United States, Hungary",
          "Canada, Japan, Netherlands",
          "United Kingdom, Spain, Belgium",
          "Brazil, Canada",
          "Israel, Germany, France",
          "Turkey, Azerbaijan",
          "United States, Venezuela",
          "Belgium, Ireland, Netherlands, Germany, Afghanistan",
          "Netherlands, Germany, Italy, Canada",
          "Norway, Denmark, Sweden",
          "United Kingdom, Jordan, Qatar, Iran",
          "Lebanon, Qatar",
          "United States, Greece, Brazil",
          "Austria, Czech Republic",
          "United States, Greece, United Kingdom",
          "Pakistan, Norway, United States",
          "France, Belgium, Spain",
          "Argentina, Chile, Peru",
          "United Kingdom, Egypt, United States",
          "United States, Hungary, Ireland, Canada",
          "United States, Bermuda, Ecuador",
          "United Kingdom,",
          "Norway, United States",
          "Australia, United Kingdom, United States, New Zealand, Italy, France",
          "United Kingdom, United States, Greece, Italy, Germany",
          "Norway, United Kingdom, France, Ireland",
          "United Kingdom, Ukraine, United States",
          "Australia, France, Ireland",
          "France, United States, Canada",
          "United States, Netherlands, Japan, France",
          "United States, New Zealand, Japan",
          "Canada, United Kingdom, Netherlands",
          "Denmark, Indonesia, Finland, Norway, United Kingdom, Israel, France, United States, Germany, Netherlands",
          "China, United States",
          "United Arab Emirates, Jordan",
          "China, Germany, India, United States",
          "Denmark, Zimbabwe",
          "Mexico, France",
          "Croatia, Slovenia, Serbia, Montenegro",
          "India, United Kingdom",
          "Denmark, United Kingdom",
          "Ireland, United Kingdom, Italy, United States",
          "China, South Korea, United States",
          "Netherlands, Belgium, United Kingdom, United States",
          "France, China, Canada",
          "Israel, Sweden, Germany, Netherlands",
          "United States, Canada, Japan, Panama",
          "United States, Iceland",
          "Netherlands, United States",
          "Chile, Argentina, France, Spain, United States",
          "Russia, United States",
          "Slovenia, Croatia, Germany, Czech Republic, Qatar",
          "Chile, France",
          "Germany, United States, Hong Kong, Singapore",
          "Spain, Germany",
          "United Kingdom, France, Belgium, United States",
          "United States, Argentina",
          "Belgium, India, Australia",
          "Australia, Armenia, Japan, Jordan, Mexico, Mongolia, New Zealand, Philippines, South Africa, Sweden, United States, Uruguay",
          "Italy, Germany",
          "Canada, Spain",
          "Germany, United States, Italy",
          "Argentina, Uruguay, Spain, France",
          "United Kingdom, Italy, Israel, Peru, United States",
          "United States, Hong Kong",
          "United States, Colombia, Mexico",
          "United States, Senegal",
          "Czech Republic, France",
          "United States, Uruguay",
          "United Kingdom, France, Canada, Belgium, United States",
          "Finland, Sweden, Norway, Latvia, Germany",
          "France, United Kingdom, India",
          "United Kingdom, Israel, Russia",
          "Italy, India",
          "West Germany",
          "France, Germany, Switzerland",
          "Chile, Spain, Argentina, Germany",
          "Spain, Italy, Argentina",
          "Germany, Sri Lanka",
          "Denmark, United Kingdom, South Africa, Sweden, Belgium",
          "Portugal, Spain",
          "India, Germany",
          "United States, Botswana",
          "Japan, Canada",
          "United Kingdom, Russia",
          "Netherlands, Belgium",
          "United Kingdom, Singapore",
          "South Africa, United States, Germany",
          "United States, Australia, China",
          "Spain, Switzerland",
          "United States, Australia, Samoa, United Kingdom",
          "Singapore, France",
          "Colombia, United States",
          "Spain, France, Uruguay",
          "Czech Republic, Slovakia",
          "United Kingdom, South Africa",
          "Saudi Arabia, Syria, Egypt, Lebanon, Kuwait",
          "United Kingdom, Canada, United States, Cayman Islands",
          "South Korea, France",
          "United Kingdom, Norway, Denmark, Germany, Sweden",
          "Canada, Brazil",
          "United Kingdom, Belgium, Sweden",
          "United States, Mexico, Spain, Malta",
          "United States, Canada, United Kingdom",
          "India, Germany, France",
          "Chile, Argentina",
          "United Kingdom, Pakistan",
          "Denmark, Spain",
          "United Kingdom, Thailand",
          "United States, France, United Kingdom, Japan",
          "France, China, Japan, United States",
          "Spain, France, Italy",
          "France, Luxembourg, Canada",
          "Uruguay, Spain, Mexico",
          "Lebanon, Jordan",
          "Germany, United States, Sweden",
          "Argentina, United States",
          "Thailand, China, United States",
          "Dominican Republic",
          "United States, Czech Republic, United Kingdom",
          "Germany, United Kingdom, United States",
          "South Korea, Czech Republic",
          "France, Netherlands, Singapore",
          "Italy, France, Switzerland",
          "Cyprus, Austria, Thailand",
          "Paraguay, Argentina",
          "United Kingdom, Malawi",
          "Taiwan, Hong Kong, United States, China",
          "Austria, Iraq, United States",
          "United States, Cambodia",
          "Austria, United States",
          "India, Japan",
          "United Kingdom, Canada, France, United States",
          "United Kingdom, United States, Czech Republic",
          "United States, Taiwan",
          "United Arab Emirates, United Kingdom, India",
          "Finland",
          "Iran, France",
          "Canada, United States, India, United Kingdom",
          "Mexico, Finland",
          "Ghana, United States",
          "United States, Germany, United Kingdom",
          "Pakistan, United Arab Emirates",
          "Ireland, United States, France",
          "Hong Kong, China, Singapore",
          "United States, Morocco",
          "China, Hong Kong, United States",
          "Germany, Italy",
          "United Kingdom, United States, Russia",
          "Egypt, Austria, United States",
          "Canada, Luxembourg",
          "Singapore, Malaysia",
          "Italy, Belgium, France",
          "United States, France, Canada, Spain",
          "United States, United Kingdom, Italy",
          "United States, Italy, United Kingdom, Liechtenstein",
          "United States, South Korea, Japan",
          "United States, Australia, Mexico",
          "South Africa, United States, New Zealand, Canada",
          "United States, United Kingdom, Canada",
          "Argentina, United States, Mexico",
          "United States, Spain, Chile, Peru",
          "Finland, Germany, Belgium",
          "United Kingdom, Germany, United States",
          "United States, New Zealand, United Kingdom",
          "Australia, France",
          "United Kingdom, Germany, Canada, United States",
          "Canada, Norway",
          "Germany, Canada, United States",
          "United States, Spain, Colombia, Mexico",
          "France, Senegal, Belgium",
          "United States, Spain, Germany",
          "Belgium, Luxembourg, France",
          "Taiwan, China, France, United States",
          "United Kingdom, Poland, United States",
          "Philippines, Singapore",
          "United Kingdom, Poland",
          "Singapore, Japan, France",
          "United States, Germany, Australia",
          "United Kingdom, South Korea",
          "Malaysia, Singapore, Hong Kong",
          "Israel, Germany, Poland, Luxembourg, Belgium, France, United States",
          "China, Taiwan",
          "China, United Kingdom",
          "Denmark, Brazil, France, Portugal, Sweden",
          "Brazil, United States",
          "United States, India, South Korea, China",
          "Japan, Canada, South Korea",
          "France, Switzerland, Spain, United States, United Arab Emirates",
          "United Kingdom, France, Germany, Spain",
          "Denmark, France, Italy, Belgium, Netherlands",
          "United States, Malta, United Kingdom",
          "Poland, West Germany",
          "Poland,",
          "Denmark, France, Poland",
          "United Kingdom, Hong Kong",
          "United States, Spain, Italy",
          "United Kingdom, France, Germany",
          "Italy, United States, Argentina",
          "United Kingdom, New Zealand",
          "United States, China, Hong Kong",
          "Argentina, France",
          "China, Japan",
          "India, Iran",
          "Finland, Germany",
          "Denmark, Germany, Belgium, United Kingdom, France, Sweden",
          "India, Germany, Austria",
          "Belgium, United Kingdom, United States",
          "China, Canada, United States",
          "United States,",
          "United States, France, South Korea, Indonesia",
          "United States, United Kingdom, Canada, Japan",
          "Turkey, United States",
          "India, Australia",
          "United Kingdom, West Germany",
          "United Kingdom, Canada, Italy",
          "Norway, Iceland, United States",
          "Egypt, France",
          "United States, Israel, United Kingdom, Canada",
          "United States, Ireland, United Kingdom",
          "Indonesia, United States",
          "Canada, Mexico, Germany, South Africa",
          "United States, Brazil, India, Uganda, China",
          "Mexico, Argentina",
          "China, United States, United Kingdom",
          "Cambodia",
          "Canada, United States, France",
          "Italy, Switzerland, Albania, Poland",
          "Canada, Japan, United States",
          "Denmark, France, United States, Sweden",
          "Denmark, Sweden, Israel, United States",
          "United Kingdom, United States, Australia",
          "Chile, Peru",
          "United States, Canada, Ireland",
          "Russia, Spain",
          "Colombia, Mexico",
          "Hong Kong, Taiwan",
          "China, United States, Australia",
          "France, Luxembourg, United States",
          "Germany, France, Luxembourg, United Kingdom, United States",
          "Switzerland, United Kingdom, United States",
          "Argentina, France, Germany",
          "United Kingdom, Denmark, Canada, Croatia",
          "Canada, Spain, France",
          "Australia, United Kingdom, Canada",
          "Ireland, Canada, United Kingdom, United States",
          "United States, United Kingdom, Morocco",
          "United Kingdom, United States, Morocco",
          "Finland, France",
          "Australia, United Kingdom, United Arab Emirates, Canada",
          "Sweden, Netherlands",
          "Uruguay, Argentina, Spain",
          "United Kingdom, Brazil, Germany",
          "Croatia",
          "France, United States, Mexico",
          "Switzerland, Vatican City, Italy, Germany, France",
          "Iceland, Sweden, Belgium",
          "India, Nepal",
          "Bangladesh",
          "Italy, South Africa, West Germany, Australia, United States",
          "Spain, United Kingdom",
          "United States, Colombia",
          "Spain, United Kingdom, United States",
          "Italy, United Kingdom, France",
          "Spain, Belgium",
          "India, Pakistan",
          "United States, India, United Arab Emirates",
          "France, Germany, Czech Republic, Belgium",
          "Denmark, China",
          "Denmark, Singapore, Canada, United States",
          "United Kingdom, United States, France, Germany",
          "France, Poland",
          "United States, Mexico, Colombia",
          "Spain, Portugal",
          "Thailand, Canada, United States",
          "Serbia, United States",
          "Russia, Poland, Serbia",
          "United States, Indonesia",
          "France, Belgium, China, United States",
          "United Kingdom, China, United States",
          "New Zealand, United Kingdom, Australia",
          "France, Iran, United States",
          "Argentina, Chile",
          "Germany, France, Russia",
          "Australia, Iraq",
          "United Arab Emirates, United States, United Kingdom",
          "China, Morocco, Hong Kong",
          "Mexico, Netherlands",
          "Italy, Switzerland, France, Germany",
          "United States, France, Canada",
          "Ireland, Canada",
          "Hong Kong, China, United States",
          "Norway, Denmark, Netherlands, Sweden",
          "Ireland, United Kingdom, Greece, France, Netherlands",
          "Israel, Germany",
          "Canada, Germany, France, United States",
          "Spain, Mexico, France"
         ],
         "name": "",
         "type": "choropleth",
         "z": [
          1907,
          697,
          427,
          336,
          168,
          139,
          133,
          113,
          85,
          80,
          78,
          69,
          68,
          51,
          50,
          49,
          48,
          48,
          43,
          43,
          40,
          39,
          38,
          35,
          34,
          27,
          26,
          25,
          23,
          21,
          18,
          17,
          16,
          15,
          14,
          13,
          13,
          12,
          12,
          12,
          11,
          11,
          11,
          10,
          9,
          9,
          8,
          8,
          8,
          7,
          7,
          7,
          7,
          7,
          6,
          6,
          6,
          5,
          5,
          5,
          5,
          5,
          5,
          5,
          4,
          4,
          4,
          4,
          4,
          4,
          4,
          4,
          4,
          4,
          4,
          4,
          4,
          3,
          3,
          3,
          3,
          3,
          3,
          3,
          3,
          3,
          3,
          3,
          3,
          3,
          3,
          3,
          3,
          3,
          2,
          2,
          2,
          2,
          2,
          2,
          2,
          2,
          2,
          2,
          2,
          2,
          2,
          2,
          2,
          2,
          2,
          2,
          2,
          2,
          2,
          2,
          2,
          2,
          2,
          2,
          2,
          2,
          2,
          2,
          2,
          2,
          2,
          2,
          2,
          2,
          2,
          2,
          2,
          2,
          2,
          2,
          2,
          2,
          2,
          1,
          1,
          1,
          1,
          1,
          1,
          1,
          1,
          1,
          1,
          1,
          1,
          1,
          1,
          1,
          1,
          1,
          1,
          1,
          1,
          1,
          1,
          1,
          1,
          1,
          1,
          1,
          1,
          1,
          1,
          1,
          1,
          1,
          1,
          1,
          1,
          1,
          1,
          1,
          1,
          1,
          1,
          1,
          1,
          1,
          1,
          1,
          1,
          1,
          1,
          1,
          1,
          1,
          1,
          1,
          1,
          1,
          1,
          1,
          1,
          1,
          1,
          1,
          1,
          1,
          1,
          1,
          1,
          1,
          1,
          1,
          1,
          1,
          1,
          1,
          1,
          1,
          1,
          1,
          1,
          1,
          1,
          1,
          1,
          1,
          1,
          1,
          1,
          1,
          1,
          1,
          1,
          1,
          1,
          1,
          1,
          1,
          1,
          1,
          1,
          1,
          1,
          1,
          1,
          1,
          1,
          1,
          1,
          1,
          1,
          1,
          1,
          1,
          1,
          1,
          1,
          1,
          1,
          1,
          1,
          1,
          1,
          1,
          1,
          1,
          1,
          1,
          1,
          1,
          1,
          1,
          1,
          1,
          1,
          1,
          1,
          1,
          1,
          1,
          1,
          1,
          1,
          1,
          1,
          1,
          1,
          1,
          1,
          1,
          1,
          1,
          1,
          1,
          1,
          1,
          1,
          1,
          1,
          1,
          1,
          1,
          1,
          1,
          1,
          1,
          1,
          1,
          1,
          1,
          1,
          1,
          1,
          1,
          1,
          1,
          1,
          1,
          1,
          1,
          1,
          1,
          1,
          1,
          1,
          1,
          1,
          1,
          1,
          1,
          1,
          1,
          1,
          1,
          1,
          1,
          1,
          1,
          1,
          1,
          1,
          1,
          1,
          1,
          1,
          1,
          1,
          1,
          1,
          1,
          1,
          1,
          1,
          1,
          1,
          1,
          1,
          1,
          1,
          1,
          1,
          1,
          1,
          1,
          1,
          1,
          1,
          1,
          1,
          1,
          1,
          1,
          1,
          1,
          1,
          1,
          1,
          1,
          1,
          1,
          1,
          1,
          1,
          1,
          1,
          1,
          1,
          1,
          1,
          1,
          1,
          1,
          1,
          1,
          1,
          1,
          1,
          1,
          1,
          1,
          1,
          1,
          1,
          1,
          1,
          1,
          1,
          1,
          1,
          1,
          1,
          1,
          1,
          1,
          1,
          1,
          1,
          1,
          1,
          1,
          1,
          1,
          1,
          1,
          1,
          1,
          1,
          1,
          1,
          1,
          1,
          1,
          1,
          1,
          1,
          1,
          1,
          1,
          1,
          1,
          1,
          1,
          1,
          1,
          1,
          1,
          1,
          1,
          1,
          1,
          1,
          1,
          1,
          1,
          1,
          1,
          1,
          1,
          1,
          1,
          1,
          1,
          1,
          1,
          1,
          1,
          1,
          1,
          1,
          1,
          1,
          1,
          1,
          1,
          1,
          1,
          1,
          1,
          1,
          1,
          1,
          1,
          1,
          1,
          1,
          1,
          1,
          1,
          1,
          1,
          1,
          1,
          1,
          1,
          1,
          1,
          1,
          1,
          1,
          1,
          1,
          1,
          1,
          1,
          1,
          1,
          1,
          1,
          1,
          1,
          1,
          1,
          1,
          1,
          1,
          1,
          1,
          1,
          1,
          1,
          1,
          1,
          1,
          1,
          1,
          1,
          1,
          1,
          1,
          1
         ]
        }
       ],
       "layout": {
        "autosize": true,
        "coloraxis": {
         "colorbar": {
          "title": {
           "text": "count"
          }
         },
         "colorscale": [
          [
           0,
           "rgb(255,245,240)"
          ],
          [
           0.125,
           "rgb(254,224,210)"
          ],
          [
           0.25,
           "rgb(252,187,161)"
          ],
          [
           0.375,
           "rgb(252,146,114)"
          ],
          [
           0.5,
           "rgb(251,106,74)"
          ],
          [
           0.625,
           "rgb(239,59,44)"
          ],
          [
           0.75,
           "rgb(203,24,29)"
          ],
          [
           0.875,
           "rgb(165,15,21)"
          ],
          [
           1,
           "rgb(103,0,13)"
          ]
         ]
        },
        "geo": {
         "center": {
          "lat": -12.534901295312224,
          "lon": -95.19052973400726
         },
         "domain": {
          "x": [
           0,
           1
          ],
          "y": [
           0,
           1
          ]
         },
         "projection": {
          "rotation": {
           "lon": 264.80947026599273
          },
          "scale": 1.152727656106811
         }
        },
        "legend": {
         "tracegroupgap": 0
        },
        "template": {
         "data": {
          "bar": [
           {
            "error_x": {
             "color": "#2a3f5f"
            },
            "error_y": {
             "color": "#2a3f5f"
            },
            "marker": {
             "line": {
              "color": "#E5ECF6",
              "width": 0.5
             },
             "pattern": {
              "fillmode": "overlay",
              "size": 10,
              "solidity": 0.2
             }
            },
            "type": "bar"
           }
          ],
          "barpolar": [
           {
            "marker": {
             "line": {
              "color": "#E5ECF6",
              "width": 0.5
             },
             "pattern": {
              "fillmode": "overlay",
              "size": 10,
              "solidity": 0.2
             }
            },
            "type": "barpolar"
           }
          ],
          "carpet": [
           {
            "aaxis": {
             "endlinecolor": "#2a3f5f",
             "gridcolor": "white",
             "linecolor": "white",
             "minorgridcolor": "white",
             "startlinecolor": "#2a3f5f"
            },
            "baxis": {
             "endlinecolor": "#2a3f5f",
             "gridcolor": "white",
             "linecolor": "white",
             "minorgridcolor": "white",
             "startlinecolor": "#2a3f5f"
            },
            "type": "carpet"
           }
          ],
          "choropleth": [
           {
            "colorbar": {
             "outlinewidth": 0,
             "ticks": ""
            },
            "type": "choropleth"
           }
          ],
          "contour": [
           {
            "colorbar": {
             "outlinewidth": 0,
             "ticks": ""
            },
            "colorscale": [
             [
              0,
              "#0d0887"
             ],
             [
              0.1111111111111111,
              "#46039f"
             ],
             [
              0.2222222222222222,
              "#7201a8"
             ],
             [
              0.3333333333333333,
              "#9c179e"
             ],
             [
              0.4444444444444444,
              "#bd3786"
             ],
             [
              0.5555555555555556,
              "#d8576b"
             ],
             [
              0.6666666666666666,
              "#ed7953"
             ],
             [
              0.7777777777777778,
              "#fb9f3a"
             ],
             [
              0.8888888888888888,
              "#fdca26"
             ],
             [
              1,
              "#f0f921"
             ]
            ],
            "type": "contour"
           }
          ],
          "contourcarpet": [
           {
            "colorbar": {
             "outlinewidth": 0,
             "ticks": ""
            },
            "type": "contourcarpet"
           }
          ],
          "heatmap": [
           {
            "colorbar": {
             "outlinewidth": 0,
             "ticks": ""
            },
            "colorscale": [
             [
              0,
              "#0d0887"
             ],
             [
              0.1111111111111111,
              "#46039f"
             ],
             [
              0.2222222222222222,
              "#7201a8"
             ],
             [
              0.3333333333333333,
              "#9c179e"
             ],
             [
              0.4444444444444444,
              "#bd3786"
             ],
             [
              0.5555555555555556,
              "#d8576b"
             ],
             [
              0.6666666666666666,
              "#ed7953"
             ],
             [
              0.7777777777777778,
              "#fb9f3a"
             ],
             [
              0.8888888888888888,
              "#fdca26"
             ],
             [
              1,
              "#f0f921"
             ]
            ],
            "type": "heatmap"
           }
          ],
          "heatmapgl": [
           {
            "colorbar": {
             "outlinewidth": 0,
             "ticks": ""
            },
            "colorscale": [
             [
              0,
              "#0d0887"
             ],
             [
              0.1111111111111111,
              "#46039f"
             ],
             [
              0.2222222222222222,
              "#7201a8"
             ],
             [
              0.3333333333333333,
              "#9c179e"
             ],
             [
              0.4444444444444444,
              "#bd3786"
             ],
             [
              0.5555555555555556,
              "#d8576b"
             ],
             [
              0.6666666666666666,
              "#ed7953"
             ],
             [
              0.7777777777777778,
              "#fb9f3a"
             ],
             [
              0.8888888888888888,
              "#fdca26"
             ],
             [
              1,
              "#f0f921"
             ]
            ],
            "type": "heatmapgl"
           }
          ],
          "histogram": [
           {
            "marker": {
             "pattern": {
              "fillmode": "overlay",
              "size": 10,
              "solidity": 0.2
             }
            },
            "type": "histogram"
           }
          ],
          "histogram2d": [
           {
            "colorbar": {
             "outlinewidth": 0,
             "ticks": ""
            },
            "colorscale": [
             [
              0,
              "#0d0887"
             ],
             [
              0.1111111111111111,
              "#46039f"
             ],
             [
              0.2222222222222222,
              "#7201a8"
             ],
             [
              0.3333333333333333,
              "#9c179e"
             ],
             [
              0.4444444444444444,
              "#bd3786"
             ],
             [
              0.5555555555555556,
              "#d8576b"
             ],
             [
              0.6666666666666666,
              "#ed7953"
             ],
             [
              0.7777777777777778,
              "#fb9f3a"
             ],
             [
              0.8888888888888888,
              "#fdca26"
             ],
             [
              1,
              "#f0f921"
             ]
            ],
            "type": "histogram2d"
           }
          ],
          "histogram2dcontour": [
           {
            "colorbar": {
             "outlinewidth": 0,
             "ticks": ""
            },
            "colorscale": [
             [
              0,
              "#0d0887"
             ],
             [
              0.1111111111111111,
              "#46039f"
             ],
             [
              0.2222222222222222,
              "#7201a8"
             ],
             [
              0.3333333333333333,
              "#9c179e"
             ],
             [
              0.4444444444444444,
              "#bd3786"
             ],
             [
              0.5555555555555556,
              "#d8576b"
             ],
             [
              0.6666666666666666,
              "#ed7953"
             ],
             [
              0.7777777777777778,
              "#fb9f3a"
             ],
             [
              0.8888888888888888,
              "#fdca26"
             ],
             [
              1,
              "#f0f921"
             ]
            ],
            "type": "histogram2dcontour"
           }
          ],
          "mesh3d": [
           {
            "colorbar": {
             "outlinewidth": 0,
             "ticks": ""
            },
            "type": "mesh3d"
           }
          ],
          "parcoords": [
           {
            "line": {
             "colorbar": {
              "outlinewidth": 0,
              "ticks": ""
             }
            },
            "type": "parcoords"
           }
          ],
          "pie": [
           {
            "automargin": true,
            "type": "pie"
           }
          ],
          "scatter": [
           {
            "fillpattern": {
             "fillmode": "overlay",
             "size": 10,
             "solidity": 0.2
            },
            "type": "scatter"
           }
          ],
          "scatter3d": [
           {
            "line": {
             "colorbar": {
              "outlinewidth": 0,
              "ticks": ""
             }
            },
            "marker": {
             "colorbar": {
              "outlinewidth": 0,
              "ticks": ""
             }
            },
            "type": "scatter3d"
           }
          ],
          "scattercarpet": [
           {
            "marker": {
             "colorbar": {
              "outlinewidth": 0,
              "ticks": ""
             }
            },
            "type": "scattercarpet"
           }
          ],
          "scattergeo": [
           {
            "marker": {
             "colorbar": {
              "outlinewidth": 0,
              "ticks": ""
             }
            },
            "type": "scattergeo"
           }
          ],
          "scattergl": [
           {
            "marker": {
             "colorbar": {
              "outlinewidth": 0,
              "ticks": ""
             }
            },
            "type": "scattergl"
           }
          ],
          "scattermapbox": [
           {
            "marker": {
             "colorbar": {
              "outlinewidth": 0,
              "ticks": ""
             }
            },
            "type": "scattermapbox"
           }
          ],
          "scatterpolar": [
           {
            "marker": {
             "colorbar": {
              "outlinewidth": 0,
              "ticks": ""
             }
            },
            "type": "scatterpolar"
           }
          ],
          "scatterpolargl": [
           {
            "marker": {
             "colorbar": {
              "outlinewidth": 0,
              "ticks": ""
             }
            },
            "type": "scatterpolargl"
           }
          ],
          "scatterternary": [
           {
            "marker": {
             "colorbar": {
              "outlinewidth": 0,
              "ticks": ""
             }
            },
            "type": "scatterternary"
           }
          ],
          "surface": [
           {
            "colorbar": {
             "outlinewidth": 0,
             "ticks": ""
            },
            "colorscale": [
             [
              0,
              "#0d0887"
             ],
             [
              0.1111111111111111,
              "#46039f"
             ],
             [
              0.2222222222222222,
              "#7201a8"
             ],
             [
              0.3333333333333333,
              "#9c179e"
             ],
             [
              0.4444444444444444,
              "#bd3786"
             ],
             [
              0.5555555555555556,
              "#d8576b"
             ],
             [
              0.6666666666666666,
              "#ed7953"
             ],
             [
              0.7777777777777778,
              "#fb9f3a"
             ],
             [
              0.8888888888888888,
              "#fdca26"
             ],
             [
              1,
              "#f0f921"
             ]
            ],
            "type": "surface"
           }
          ],
          "table": [
           {
            "cells": {
             "fill": {
              "color": "#EBF0F8"
             },
             "line": {
              "color": "white"
             }
            },
            "header": {
             "fill": {
              "color": "#C8D4E3"
             },
             "line": {
              "color": "white"
             }
            },
            "type": "table"
           }
          ]
         },
         "layout": {
          "annotationdefaults": {
           "arrowcolor": "#2a3f5f",
           "arrowhead": 0,
           "arrowwidth": 1
          },
          "autotypenumbers": "strict",
          "coloraxis": {
           "colorbar": {
            "outlinewidth": 0,
            "ticks": ""
           }
          },
          "colorscale": {
           "diverging": [
            [
             0,
             "#8e0152"
            ],
            [
             0.1,
             "#c51b7d"
            ],
            [
             0.2,
             "#de77ae"
            ],
            [
             0.3,
             "#f1b6da"
            ],
            [
             0.4,
             "#fde0ef"
            ],
            [
             0.5,
             "#f7f7f7"
            ],
            [
             0.6,
             "#e6f5d0"
            ],
            [
             0.7,
             "#b8e186"
            ],
            [
             0.8,
             "#7fbc41"
            ],
            [
             0.9,
             "#4d9221"
            ],
            [
             1,
             "#276419"
            ]
           ],
           "sequential": [
            [
             0,
             "#0d0887"
            ],
            [
             0.1111111111111111,
             "#46039f"
            ],
            [
             0.2222222222222222,
             "#7201a8"
            ],
            [
             0.3333333333333333,
             "#9c179e"
            ],
            [
             0.4444444444444444,
             "#bd3786"
            ],
            [
             0.5555555555555556,
             "#d8576b"
            ],
            [
             0.6666666666666666,
             "#ed7953"
            ],
            [
             0.7777777777777778,
             "#fb9f3a"
            ],
            [
             0.8888888888888888,
             "#fdca26"
            ],
            [
             1,
             "#f0f921"
            ]
           ],
           "sequentialminus": [
            [
             0,
             "#0d0887"
            ],
            [
             0.1111111111111111,
             "#46039f"
            ],
            [
             0.2222222222222222,
             "#7201a8"
            ],
            [
             0.3333333333333333,
             "#9c179e"
            ],
            [
             0.4444444444444444,
             "#bd3786"
            ],
            [
             0.5555555555555556,
             "#d8576b"
            ],
            [
             0.6666666666666666,
             "#ed7953"
            ],
            [
             0.7777777777777778,
             "#fb9f3a"
            ],
            [
             0.8888888888888888,
             "#fdca26"
            ],
            [
             1,
             "#f0f921"
            ]
           ]
          },
          "colorway": [
           "#636efa",
           "#EF553B",
           "#00cc96",
           "#ab63fa",
           "#FFA15A",
           "#19d3f3",
           "#FF6692",
           "#B6E880",
           "#FF97FF",
           "#FECB52"
          ],
          "font": {
           "color": "#2a3f5f"
          },
          "geo": {
           "bgcolor": "white",
           "lakecolor": "white",
           "landcolor": "#E5ECF6",
           "showlakes": true,
           "showland": true,
           "subunitcolor": "white"
          },
          "hoverlabel": {
           "align": "left"
          },
          "hovermode": "closest",
          "mapbox": {
           "style": "light"
          },
          "paper_bgcolor": "white",
          "plot_bgcolor": "#E5ECF6",
          "polar": {
           "angularaxis": {
            "gridcolor": "white",
            "linecolor": "white",
            "ticks": ""
           },
           "bgcolor": "#E5ECF6",
           "radialaxis": {
            "gridcolor": "white",
            "linecolor": "white",
            "ticks": ""
           }
          },
          "scene": {
           "xaxis": {
            "backgroundcolor": "#E5ECF6",
            "gridcolor": "white",
            "gridwidth": 2,
            "linecolor": "white",
            "showbackground": true,
            "ticks": "",
            "zerolinecolor": "white"
           },
           "yaxis": {
            "backgroundcolor": "#E5ECF6",
            "gridcolor": "white",
            "gridwidth": 2,
            "linecolor": "white",
            "showbackground": true,
            "ticks": "",
            "zerolinecolor": "white"
           },
           "zaxis": {
            "backgroundcolor": "#E5ECF6",
            "gridcolor": "white",
            "gridwidth": 2,
            "linecolor": "white",
            "showbackground": true,
            "ticks": "",
            "zerolinecolor": "white"
           }
          },
          "shapedefaults": {
           "line": {
            "color": "#2a3f5f"
           }
          },
          "ternary": {
           "aaxis": {
            "gridcolor": "white",
            "linecolor": "white",
            "ticks": ""
           },
           "baxis": {
            "gridcolor": "white",
            "linecolor": "white",
            "ticks": ""
           },
           "bgcolor": "#E5ECF6",
           "caxis": {
            "gridcolor": "white",
            "linecolor": "white",
            "ticks": ""
           }
          },
          "title": {
           "x": 0.05
          },
          "xaxis": {
           "automargin": true,
           "gridcolor": "white",
           "linecolor": "white",
           "ticks": "",
           "title": {
            "standoff": 15
           },
           "zerolinecolor": "white",
           "zerolinewidth": 2
          },
          "yaxis": {
           "automargin": true,
           "gridcolor": "white",
           "linecolor": "white",
           "ticks": "",
           "title": {
            "standoff": 15
           },
           "zerolinecolor": "white",
           "zerolinewidth": 2
          }
         }
        },
        "title": {
         "text": "Top Content Producing Countries"
        }
       }
      },
      "image/png": "[encoded data removed]",
      "text/html": [
       "<div>                            <div id=\"7a09f808-678c-4b2f-8347-2711975bb7a1\" class=\"plotly-graph-div\" style=\"height:525px; width:100%;\"></div>            <script type=\"text/javascript\">                require([\"plotly\"], function(Plotly) {                    window.PLOTLYENV=window.PLOTLYENV || {};                                    if (document.getElementById(\"7a09f808-678c-4b2f-8347-2711975bb7a1\")) {                    Plotly.newPlot(                        \"7a09f808-678c-4b2f-8347-2711975bb7a1\",                        [{\"coloraxis\":\"coloraxis\",\"geo\":\"geo\",\"hovertemplate\":\"country=%{location}<br>count=%{z}<extra></extra>\",\"locationmode\":\"country names\",\"locations\":[\"United States\",\"India\",\"Not Specified\",\"United Kingdom\",\"Japan\",\"Canada\",\"South Korea\",\"Spain\",\"France\",\"Mexico\",\"Turkey\",\"Australia\",\"Taiwan\",\"Hong Kong\",\"Thailand\",\"Egypt\",\"China\",\"Brazil\",\"Indonesia\",\"Philippines\",\"Germany\",\"United Kingdom, United States\",\"Argentina\",\"Canada, United States\",\"United States, Canada\",\"United States, United Kingdom\",\"Nigeria\",\"Colombia\",\"France, Belgium\",\"Italy\",\"Pakistan\",\"Malaysia\",\"Hong Kong, China\",\"China, Hong Kong\",\"Singapore\",\"Russia\",\"Israel\",\"Denmark\",\"United States, Japan\",\"Chile\",\"Netherlands\",\"Poland\",\"Ireland\",\"Mexico, United States\",\"United States, Australia\",\"United States, France\",\"United States, Germany\",\"United States, Mexico\",\"New Zealand\",\"Australia, United States\",\"Norway\",\"Sweden\",\"Argentina, Spain\",\"India, United States\",\"United States, France, Japan\",\"United Kingdom, France\",\"Japan, United States\",\"Belgium\",\"United States, India\",\"Spain, France\",\"Lebanon\",\"Germany, United States\",\"United States, China\",\"South Korea, United States\",\"Vietnam\",\"United States, Czech Republic\",\"United States, United Kingdom, Australia\",\"Italy, France\",\"India, France\",\"Romania\",\"United Kingdom, Canada, United States\",\"South Africa\",\"France, United States\",\"United Arab Emirates\",\"United Kingdom, United States, Spain, Germany, Greece, Canada\",\"Peru\",\"United States, Italy\",\"France, Canada\",\"India, Turkey\",\"United States, United Kingdom, France\",\"Bulgaria, United States\",\"United States, New Zealand\",\"United States, Spain\",\"Canada, United Kingdom, United States\",\"Australia, United Arab Emirates\",\"Sweden, United States\",\"Italy, United States\",\"Belgium, France\",\"United Kingdom, Germany\",\"United States, United Arab Emirates\",\"Iceland\",\"United States, Sweden\",\"Hong Kong, United States\",\"United Kingdom, Canada\",\"United Kingdom, France, United States\",\"United States, Brazil, South Korea, Mexico, Japan, Germany\",\"Canada, United Kingdom\",\"Ukraine\",\"Spain, Argentina\",\"Israel, United States\",\"United States, Bulgaria\",\"United States, Japan, Canada\",\"United Kingdom, India, United States\",\"Canada, Australia\",\"Argentina, Italy\",\"Czech Republic, United States\",\"Brazil, France\",\"United States, South Korea, China\",\"United Kingdom, India\",\"Germany, Australia\",\"United States, South Africa\",\"Colombia, Mexico, United States\",\"Indonesia, Singapore\",\"Austria\",\"Denmark, United States\",\"United Kingdom, Ireland\",\"Switzerland\",\"United States, United Kingdom, Germany\",\"United Kingdom, France, Belgium\",\"India, Soviet Union\",\"Germany, United Kingdom\",\"Australia, Canada\",\"United States, Ireland\",\"Ireland, United Kingdom, United States\",\"United Kingdom, Japan, United States\",\"United States, Chile\",\"South Africa, United States\",\"Hungary\",\"United Arab Emirates, United States\",\"Canada, United States, United Kingdom\",\"Singapore, United States\",\"United States, Germany, Canada\",\"Germany, United States, Canada\",\"Switzerland, United States\",\"Uruguay\",\"Poland, United States\",\"Belgium, Netherlands\",\"France, South Korea, Japan\",\"Spain, Mexico\",\"India, Canada\",\"France, Morocco\",\"United States, France, Canada, Lebanon, Qatar\",\"Switzerland, France\",\"India, Switzerland\",\"Ireland, United Kingdom\",\"France, United Kingdom, United States\",\"South Africa, China, United States\",\"Norway, Germany\",\"Canada, India, Thailand, United States, United Arab Emirates\",\"Germany, Jordan, Netherlands\",\"Turkey, France, Germany, Poland\",\"France, United Kingdom\",\"Georgia, Germany, France\",\"Canada, Ireland, United States\",\"United Kingdom, Canada, Japan\",\"India, Malaysia\",\"Canada, India\",\"Australia, India\",\"United Arab Emirates, Romania\",\"United States, Brazil\",\"Spain, Belgium, Switzerland, United States, China, United Kingdom\",\"Pakistan, United States\",\"China, India, Nepal\",\"Venezuela\",\"United Kingdom, China, Canada, Indonesia, Singapore, United States\",\"Australia, New Zealand, United States\",\"France, Canada, Belgium\",\"Cambodia, United States\",\"India, Mexico\",\"Saudi Arabia\",\"Ireland, Canada, United States, United Kingdom\",\"Canada, France\",\"Guatemala\",\"Ireland, Canada, Luxembourg, United States\",\"United Kingdom, South Africa, Australia, United States\",\"Bulgaria, United States, Spain, Canada\",\"Netherlands, Denmark, France, Germany\",\"France, Netherlands, South Africa, Finland\",\"Bulgaria\",\"Serbia, South Korea, Slovenia\",\"Somalia, Kenya, Sudan, South Africa, United States\",\"Norway, Germany, Sweden\",\"Turkey, India\",\"United States, Australia, South Africa, United Kingdom\",\"Norway, Sweden\",\"Venezuela, Colombia\",\"Netherlands, Belgium, Germany, Jordan\",\"Italy, Turkey\",\"Argentina, Brazil, France, Poland, Germany, Denmark\",\"Philippines, Qatar\",\"United Kingdom, Spain, United States, Germany\",\"United Kingdom, Italy, France, United States\",\"United States, United Kingdom, Spain, South Korea\",\"United States, Israel, Italy, South Africa\",\"Mexico, Spain\",\"United Kingdom, India, Sweden\",\"Spain, Colombia\",\"South Korea, China, United States\",\"United States, Nicaragua\",\"Australia, New Zealand\",\"Canada, Germany, South Africa\",\"Thailand, United States\",\"Italy, Canada, France\",\"Denmark, Germany, Belgium, United Kingdom, France\",\"Canada, France, Italy, Morocco, United States\",\"Germany, Belgium\",\"United States, India, Bangladesh\",\"Czech Republic, United Kingdom, France\",\"Brazil, India, China, United States\",\"United Kingdom, United States, Dominican Republic\",\"Soviet Union, India\",\"South Africa, Germany, Netherlands, France\",\"United States, Canada, Belgium, United Kingdom\",\"Portugal, France, Poland, United States\",\"New Zealand, United Kingdom\",\"Georgia\",\"United Kingdom, Namibia, South Africa, Zimbabwe, United States\",\"United States, Denmark\",\"Brazil, Netherlands, United States, Colombia, Austria, Germany\",\"United States, United Kingdom, Denmark, Sweden\",\"Spain, Cuba\",\"Chile, United States, France\",\"United States, Russia\",\"Ireland, South Africa\",\"Netherlands, Denmark, South Africa\",\"United Kingdom, Germany, Canada\",\"United Kingdom, Australia, Canada, United States\",\"France, Qatar\",\"Peru, United States, United Kingdom\",\"United States, Kazakhstan\",\"France, Germany\",\"United States, Hungary\",\"Canada, Japan, Netherlands\",\"United Kingdom, Spain, Belgium\",\"Brazil, Canada\",\"Israel, Germany, France\",\"Turkey, Azerbaijan\",\"United States, Venezuela\",\"Belgium, Ireland, Netherlands, Germany, Afghanistan\",\"Netherlands, Germany, Italy, Canada\",\"Norway, Denmark, Sweden\",\"United Kingdom, Jordan, Qatar, Iran\",\"Lebanon, Qatar\",\"United States, Greece, Brazil\",\"Austria, Czech Republic\",\"United States, Greece, United Kingdom\",\"Pakistan, Norway, United States\",\"France, Belgium, Spain\",\"Argentina, Chile, Peru\",\"United Kingdom, Egypt, United States\",\"United States, Hungary, Ireland, Canada\",\"United States, Bermuda, Ecuador\",\"United Kingdom,\",\"Norway, United States\",\"Australia, United Kingdom, United States, New Zealand, Italy, France\",\"United Kingdom, United States, Greece, Italy, Germany\",\"Norway, United Kingdom, France, Ireland\",\"United Kingdom, Ukraine, United States\",\"Australia, France, Ireland\",\"France, United States, Canada\",\"United States, Netherlands, Japan, France\",\"United States, New Zealand, Japan\",\"Canada, United Kingdom, Netherlands\",\"Denmark, Indonesia, Finland, Norway, United Kingdom, Israel, France, United States, Germany, Netherlands\",\"China, United States\",\"United Arab Emirates, Jordan\",\"China, Germany, India, United States\",\"Denmark, Zimbabwe\",\"Mexico, France\",\"Croatia, Slovenia, Serbia, Montenegro\",\"India, United Kingdom\",\"Denmark, United Kingdom\",\"Ireland, United Kingdom, Italy, United States\",\"China, South Korea, United States\",\"Netherlands, Belgium, United Kingdom, United States\",\"France, China, Canada\",\"Israel, Sweden, Germany, Netherlands\",\"United States, Canada, Japan, Panama\",\"United States, Iceland\",\"Netherlands, United States\",\"Chile, Argentina, France, Spain, United States\",\"Russia, United States\",\"Slovenia, Croatia, Germany, Czech Republic, Qatar\",\"Chile, France\",\"Germany, United States, Hong Kong, Singapore\",\"Spain, Germany\",\"United Kingdom, France, Belgium, United States\",\"United States, Argentina\",\"Belgium, India, Australia\",\"Australia, Armenia, Japan, Jordan, Mexico, Mongolia, New Zealand, Philippines, South Africa, Sweden, United States, Uruguay\",\"Italy, Germany\",\"Canada, Spain\",\"Germany, United States, Italy\",\"Argentina, Uruguay, Spain, France\",\"United Kingdom, Italy, Israel, Peru, United States\",\"United States, Hong Kong\",\"United States, Colombia, Mexico\",\"United States, Senegal\",\"Czech Republic, France\",\"United States, Uruguay\",\"United Kingdom, France, Canada, Belgium, United States\",\"Finland, Sweden, Norway, Latvia, Germany\",\"France, United Kingdom, India\",\"United Kingdom, Israel, Russia\",\"Italy, India\",\"West Germany\",\"France, Germany, Switzerland\",\"Chile, Spain, Argentina, Germany\",\"Spain, Italy, Argentina\",\"Germany, Sri Lanka\",\"Denmark, United Kingdom, South Africa, Sweden, Belgium\",\"Portugal, Spain\",\"India, Germany\",\"United States, Botswana\",\"Japan, Canada\",\"United Kingdom, Russia\",\"Netherlands, Belgium\",\"United Kingdom, Singapore\",\"South Africa, United States, Germany\",\"United States, Australia, China\",\"Spain, Switzerland\",\"United States, Australia, Samoa, United Kingdom\",\"Singapore, France\",\"Colombia, United States\",\"Spain, France, Uruguay\",\"Czech Republic, Slovakia\",\"United Kingdom, South Africa\",\"Saudi Arabia, Syria, Egypt, Lebanon, Kuwait\",\"United Kingdom, Canada, United States, Cayman Islands\",\"South Korea, France\",\"United Kingdom, Norway, Denmark, Germany, Sweden\",\"Canada, Brazil\",\"United Kingdom, Belgium, Sweden\",\"United States, Mexico, Spain, Malta\",\"United States, Canada, United Kingdom\",\"India, Germany, France\",\"Chile, Argentina\",\"United Kingdom, Pakistan\",\"Denmark, Spain\",\"United Kingdom, Thailand\",\"United States, France, United Kingdom, Japan\",\"France, China, Japan, United States\",\"Spain, France, Italy\",\"France, Luxembourg, Canada\",\"Uruguay, Spain, Mexico\",\"Lebanon, Jordan\",\"Germany, United States, Sweden\",\"Argentina, United States\",\"Thailand, China, United States\",\"Dominican Republic\",\"United States, Czech Republic, United Kingdom\",\"Germany, United Kingdom, United States\",\"South Korea, Czech Republic\",\"France, Netherlands, Singapore\",\"Italy, France, Switzerland\",\"Cyprus, Austria, Thailand\",\"Paraguay, Argentina\",\"United Kingdom, Malawi\",\"Taiwan, Hong Kong, United States, China\",\"Austria, Iraq, United States\",\"United States, Cambodia\",\"Austria, United States\",\"India, Japan\",\"United Kingdom, Canada, France, United States\",\"United Kingdom, United States, Czech Republic\",\"United States, Taiwan\",\"United Arab Emirates, United Kingdom, India\",\"Finland\",\"Iran, France\",\"Canada, United States, India, United Kingdom\",\"Mexico, Finland\",\"Ghana, United States\",\"United States, Germany, United Kingdom\",\"Pakistan, United Arab Emirates\",\"Ireland, United States, France\",\"Hong Kong, China, Singapore\",\"United States, Morocco\",\"China, Hong Kong, United States\",\"Germany, Italy\",\"United Kingdom, United States, Russia\",\"Egypt, Austria, United States\",\"Canada, Luxembourg\",\"Singapore, Malaysia\",\"Italy, Belgium, France\",\"United States, France, Canada, Spain\",\"United States, United Kingdom, Italy\",\"United States, Italy, United Kingdom, Liechtenstein\",\"United States, South Korea, Japan\",\"United States, Australia, Mexico\",\"South Africa, United States, New Zealand, Canada\",\"United States, United Kingdom, Canada\",\"Argentina, United States, Mexico\",\"United States, Spain, Chile, Peru\",\"Finland, Germany, Belgium\",\"United Kingdom, Germany, United States\",\"United States, New Zealand, United Kingdom\",\"Australia, France\",\"United Kingdom, Germany, Canada, United States\",\"Canada, Norway\",\"Germany, Canada, United States\",\"United States, Spain, Colombia, Mexico\",\"France, Senegal, Belgium\",\"United States, Spain, Germany\",\"Belgium, Luxembourg, France\",\"Taiwan, China, France, United States\",\"United Kingdom, Poland, United States\",\"Philippines, Singapore\",\"United Kingdom, Poland\",\"Singapore, Japan, France\",\"United States, Germany, Australia\",\"United Kingdom, South Korea\",\"Malaysia, Singapore, Hong Kong\",\"Israel, Germany, Poland, Luxembourg, Belgium, France, United States\",\"China, Taiwan\",\"China, United Kingdom\",\"Denmark, Brazil, France, Portugal, Sweden\",\"Brazil, United States\",\"United States, India, South Korea, China\",\"Japan, Canada, South Korea\",\"France, Switzerland, Spain, United States, United Arab Emirates\",\"United Kingdom, France, Germany, Spain\",\"Denmark, France, Italy, Belgium, Netherlands\",\"United States, Malta, United Kingdom\",\"Poland, West Germany\",\"Poland,\",\"Denmark, France, Poland\",\"United Kingdom, Hong Kong\",\"United States, Spain, Italy\",\"United Kingdom, France, Germany\",\"Italy, United States, Argentina\",\"United Kingdom, New Zealand\",\"United States, China, Hong Kong\",\"Argentina, France\",\"China, Japan\",\"India, Iran\",\"Finland, Germany\",\"Denmark, Germany, Belgium, United Kingdom, France, Sweden\",\"India, Germany, Austria\",\"Belgium, United Kingdom, United States\",\"China, Canada, United States\",\"United States,\",\"United States, France, South Korea, Indonesia\",\"United States, United Kingdom, Canada, Japan\",\"Turkey, United States\",\"India, Australia\",\"United Kingdom, West Germany\",\"United Kingdom, Canada, Italy\",\"Norway, Iceland, United States\",\"Egypt, France\",\"United States, Israel, United Kingdom, Canada\",\"United States, Ireland, United Kingdom\",\"Indonesia, United States\",\"Canada, Mexico, Germany, South Africa\",\"United States, Brazil, India, Uganda, China\",\"Mexico, Argentina\",\"China, United States, United Kingdom\",\"Cambodia\",\"Canada, United States, France\",\"Italy, Switzerland, Albania, Poland\",\"Canada, Japan, United States\",\"Denmark, France, United States, Sweden\",\"Denmark, Sweden, Israel, United States\",\"United Kingdom, United States, Australia\",\"Chile, Peru\",\"United States, Canada, Ireland\",\"Russia, Spain\",\"Colombia, Mexico\",\"Hong Kong, Taiwan\",\"China, United States, Australia\",\"France, Luxembourg, United States\",\"Germany, France, Luxembourg, United Kingdom, United States\",\"Switzerland, United Kingdom, United States\",\"Argentina, France, Germany\",\"United Kingdom, Denmark, Canada, Croatia\",\"Canada, Spain, France\",\"Australia, United Kingdom, Canada\",\"Ireland, Canada, United Kingdom, United States\",\"United States, United Kingdom, Morocco\",\"United Kingdom, United States, Morocco\",\"Finland, France\",\"Australia, United Kingdom, United Arab Emirates, Canada\",\"Sweden, Netherlands\",\"Uruguay, Argentina, Spain\",\"United Kingdom, Brazil, Germany\",\"Croatia\",\"France, United States, Mexico\",\"Switzerland, Vatican City, Italy, Germany, France\",\"Iceland, Sweden, Belgium\",\"India, Nepal\",\"Bangladesh\",\"Italy, South Africa, West Germany, Australia, United States\",\"Spain, United Kingdom\",\"United States, Colombia\",\"Spain, United Kingdom, United States\",\"Italy, United Kingdom, France\",\"Spain, Belgium\",\"India, Pakistan\",\"United States, India, United Arab Emirates\",\"France, Germany, Czech Republic, Belgium\",\"Denmark, China\",\"Denmark, Singapore, Canada, United States\",\"United Kingdom, United States, France, Germany\",\"France, Poland\",\"United States, Mexico, Colombia\",\"Spain, Portugal\",\"Thailand, Canada, United States\",\"Serbia, United States\",\"Russia, Poland, Serbia\",\"United States, Indonesia\",\"France, Belgium, China, United States\",\"United Kingdom, China, United States\",\"New Zealand, United Kingdom, Australia\",\"France, Iran, United States\",\"Argentina, Chile\",\"Germany, France, Russia\",\"Australia, Iraq\",\"United Arab Emirates, United States, United Kingdom\",\"China, Morocco, Hong Kong\",\"Mexico, Netherlands\",\"Italy, Switzerland, France, Germany\",\"United States, France, Canada\",\"Ireland, Canada\",\"Hong Kong, China, United States\",\"Norway, Denmark, Netherlands, Sweden\",\"Ireland, United Kingdom, Greece, France, Netherlands\",\"Israel, Germany\",\"Canada, Germany, France, United States\",\"Spain, Mexico, France\"],\"name\":\"\",\"z\":[1907,697,427,336,168,139,133,113,85,80,78,69,68,51,50,49,48,48,43,43,40,39,38,35,34,27,26,25,23,21,18,17,16,15,14,13,13,12,12,12,11,11,11,10,9,9,8,8,8,7,7,7,7,7,6,6,6,5,5,5,5,5,5,5,4,4,4,4,4,4,4,4,4,4,4,4,4,3,3,3,3,3,3,3,3,3,3,3,3,3,3,3,3,3,2,2,2,2,2,2,2,2,2,2,2,2,2,2,2,2,2,2,2,2,2,2,2,2,2,2,2,2,2,2,2,2,2,2,2,2,2,2,2,2,2,2,2,2,2,1,1,1,1,1,1,1,1,1,1,1,1,1,1,1,1,1,1,1,1,1,1,1,1,1,1,1,1,1,1,1,1,1,1,1,1,1,1,1,1,1,1,1,1,1,1,1,1,1,1,1,1,1,1,1,1,1,1,1,1,1,1,1,1,1,1,1,1,1,1,1,1,1,1,1,1,1,1,1,1,1,1,1,1,1,1,1,1,1,1,1,1,1,1,1,1,1,1,1,1,1,1,1,1,1,1,1,1,1,1,1,1,1,1,1,1,1,1,1,1,1,1,1,1,1,1,1,1,1,1,1,1,1,1,1,1,1,1,1,1,1,1,1,1,1,1,1,1,1,1,1,1,1,1,1,1,1,1,1,1,1,1,1,1,1,1,1,1,1,1,1,1,1,1,1,1,1,1,1,1,1,1,1,1,1,1,1,1,1,1,1,1,1,1,1,1,1,1,1,1,1,1,1,1,1,1,1,1,1,1,1,1,1,1,1,1,1,1,1,1,1,1,1,1,1,1,1,1,1,1,1,1,1,1,1,1,1,1,1,1,1,1,1,1,1,1,1,1,1,1,1,1,1,1,1,1,1,1,1,1,1,1,1,1,1,1,1,1,1,1,1,1,1,1,1,1,1,1,1,1,1,1,1,1,1,1,1,1,1,1,1,1,1,1,1,1,1,1,1,1,1,1,1,1,1,1,1,1,1,1,1,1,1,1,1,1,1,1,1,1,1,1,1,1,1,1,1,1,1,1,1,1,1,1,1,1,1,1,1,1,1,1,1,1,1,1,1,1,1,1,1,1,1,1,1,1,1,1,1,1,1,1,1,1,1,1,1,1,1,1,1,1,1,1,1,1,1,1,1,1,1,1,1,1,1,1,1,1,1],\"type\":\"choropleth\"}],                        {\"template\":{\"data\":{\"histogram2dcontour\":[{\"type\":\"histogram2dcontour\",\"colorbar\":{\"outlinewidth\":0,\"ticks\":\"\"},\"colorscale\":[[0.0,\"#0d0887\"],[0.1111111111111111,\"#46039f\"],[0.2222222222222222,\"#7201a8\"],[0.3333333333333333,\"#9c179e\"],[0.4444444444444444,\"#bd3786\"],[0.5555555555555556,\"#d8576b\"],[0.6666666666666666,\"#ed7953\"],[0.7777777777777778,\"#fb9f3a\"],[0.8888888888888888,\"#fdca26\"],[1.0,\"#f0f921\"]]}],\"choropleth\":[{\"type\":\"choropleth\",\"colorbar\":{\"outlinewidth\":0,\"ticks\":\"\"}}],\"histogram2d\":[{\"type\":\"histogram2d\",\"colorbar\":{\"outlinewidth\":0,\"ticks\":\"\"},\"colorscale\":[[0.0,\"#0d0887\"],[0.1111111111111111,\"#46039f\"],[0.2222222222222222,\"#7201a8\"],[0.3333333333333333,\"#9c179e\"],[0.4444444444444444,\"#bd3786\"],[0.5555555555555556,\"#d8576b\"],[0.6666666666666666,\"#ed7953\"],[0.7777777777777778,\"#fb9f3a\"],[0.8888888888888888,\"#fdca26\"],[1.0,\"#f0f921\"]]}],\"heatmap\":[{\"type\":\"heatmap\",\"colorbar\":{\"outlinewidth\":0,\"ticks\":\"\"},\"colorscale\":[[0.0,\"#0d0887\"],[0.1111111111111111,\"#46039f\"],[0.2222222222222222,\"#7201a8\"],[0.3333333333333333,\"#9c179e\"],[0.4444444444444444,\"#bd3786\"],[0.5555555555555556,\"#d8576b\"],[0.6666666666666666,\"#ed7953\"],[0.7777777777777778,\"#fb9f3a\"],[0.8888888888888888,\"#fdca26\"],[1.0,\"#f0f921\"]]}],\"heatmapgl\":[{\"type\":\"heatmapgl\",\"colorbar\":{\"outlinewidth\":0,\"ticks\":\"\"},\"colorscale\":[[0.0,\"#0d0887\"],[0.1111111111111111,\"#46039f\"],[0.2222222222222222,\"#7201a8\"],[0.3333333333333333,\"#9c179e\"],[0.4444444444444444,\"#bd3786\"],[0.5555555555555556,\"#d8576b\"],[0.6666666666666666,\"#ed7953\"],[0.7777777777777778,\"#fb9f3a\"],[0.8888888888888888,\"#fdca26\"],[1.0,\"#f0f921\"]]}],\"contourcarpet\":[{\"type\":\"contourcarpet\",\"colorbar\":{\"outlinewidth\":0,\"ticks\":\"\"}}],\"contour\":[{\"type\":\"contour\",\"colorbar\":{\"outlinewidth\":0,\"ticks\":\"\"},\"colorscale\":[[0.0,\"#0d0887\"],[0.1111111111111111,\"#46039f\"],[0.2222222222222222,\"#7201a8\"],[0.3333333333333333,\"#9c179e\"],[0.4444444444444444,\"#bd3786\"],[0.5555555555555556,\"#d8576b\"],[0.6666666666666666,\"#ed7953\"],[0.7777777777777778,\"#fb9f3a\"],[0.8888888888888888,\"#fdca26\"],[1.0,\"#f0f921\"]]}],\"surface\":[{\"type\":\"surface\",\"colorbar\":{\"outlinewidth\":0,\"ticks\":\"\"},\"colorscale\":[[0.0,\"#0d0887\"],[0.1111111111111111,\"#46039f\"],[0.2222222222222222,\"#7201a8\"],[0.3333333333333333,\"#9c179e\"],[0.4444444444444444,\"#bd3786\"],[0.5555555555555556,\"#d8576b\"],[0.6666666666666666,\"#ed7953\"],[0.7777777777777778,\"#fb9f3a\"],[0.8888888888888888,\"#fdca26\"],[1.0,\"#f0f921\"]]}],\"mesh3d\":[{\"type\":\"mesh3d\",\"colorbar\":{\"outlinewidth\":0,\"ticks\":\"\"}}],\"scatter\":[{\"fillpattern\":{\"fillmode\":\"overlay\",\"size\":10,\"solidity\":0.2},\"type\":\"scatter\"}],\"parcoords\":[{\"type\":\"parcoords\",\"line\":{\"colorbar\":{\"outlinewidth\":0,\"ticks\":\"\"}}}],\"scatterpolargl\":[{\"type\":\"scatterpolargl\",\"marker\":{\"colorbar\":{\"outlinewidth\":0,\"ticks\":\"\"}}}],\"bar\":[{\"error_x\":{\"color\":\"#2a3f5f\"},\"error_y\":{\"color\":\"#2a3f5f\"},\"marker\":{\"line\":{\"color\":\"#E5ECF6\",\"width\":0.5},\"pattern\":{\"fillmode\":\"overlay\",\"size\":10,\"solidity\":0.2}},\"type\":\"bar\"}],\"scattergeo\":[{\"type\":\"scattergeo\",\"marker\":{\"colorbar\":{\"outlinewidth\":0,\"ticks\":\"\"}}}],\"scatterpolar\":[{\"type\":\"scatterpolar\",\"marker\":{\"colorbar\":{\"outlinewidth\":0,\"ticks\":\"\"}}}],\"histogram\":[{\"marker\":{\"pattern\":{\"fillmode\":\"overlay\",\"size\":10,\"solidity\":0.2}},\"type\":\"histogram\"}],\"scattergl\":[{\"type\":\"scattergl\",\"marker\":{\"colorbar\":{\"outlinewidth\":0,\"ticks\":\"\"}}}],\"scatter3d\":[{\"type\":\"scatter3d\",\"line\":{\"colorbar\":{\"outlinewidth\":0,\"ticks\":\"\"}},\"marker\":{\"colorbar\":{\"outlinewidth\":0,\"ticks\":\"\"}}}],\"scattermapbox\":[{\"type\":\"scattermapbox\",\"marker\":{\"colorbar\":{\"outlinewidth\":0,\"ticks\":\"\"}}}],\"scatterternary\":[{\"type\":\"scatterternary\",\"marker\":{\"colorbar\":{\"outlinewidth\":0,\"ticks\":\"\"}}}],\"scattercarpet\":[{\"type\":\"scattercarpet\",\"marker\":{\"colorbar\":{\"outlinewidth\":0,\"ticks\":\"\"}}}],\"carpet\":[{\"aaxis\":{\"endlinecolor\":\"#2a3f5f\",\"gridcolor\":\"white\",\"linecolor\":\"white\",\"minorgridcolor\":\"white\",\"startlinecolor\":\"#2a3f5f\"},\"baxis\":{\"endlinecolor\":\"#2a3f5f\",\"gridcolor\":\"white\",\"linecolor\":\"white\",\"minorgridcolor\":\"white\",\"startlinecolor\":\"#2a3f5f\"},\"type\":\"carpet\"}],\"table\":[{\"cells\":{\"fill\":{\"color\":\"#EBF0F8\"},\"line\":{\"color\":\"white\"}},\"header\":{\"fill\":{\"color\":\"#C8D4E3\"},\"line\":{\"color\":\"white\"}},\"type\":\"table\"}],\"barpolar\":[{\"marker\":{\"line\":{\"color\":\"#E5ECF6\",\"width\":0.5},\"pattern\":{\"fillmode\":\"overlay\",\"size\":10,\"solidity\":0.2}},\"type\":\"barpolar\"}],\"pie\":[{\"automargin\":true,\"type\":\"pie\"}]},\"layout\":{\"autotypenumbers\":\"strict\",\"colorway\":[\"#636efa\",\"#EF553B\",\"#00cc96\",\"#ab63fa\",\"#FFA15A\",\"#19d3f3\",\"#FF6692\",\"#B6E880\",\"#FF97FF\",\"#FECB52\"],\"font\":{\"color\":\"#2a3f5f\"},\"hovermode\":\"closest\",\"hoverlabel\":{\"align\":\"left\"},\"paper_bgcolor\":\"white\",\"plot_bgcolor\":\"#E5ECF6\",\"polar\":{\"bgcolor\":\"#E5ECF6\",\"angularaxis\":{\"gridcolor\":\"white\",\"linecolor\":\"white\",\"ticks\":\"\"},\"radialaxis\":{\"gridcolor\":\"white\",\"linecolor\":\"white\",\"ticks\":\"\"}},\"ternary\":{\"bgcolor\":\"#E5ECF6\",\"aaxis\":{\"gridcolor\":\"white\",\"linecolor\":\"white\",\"ticks\":\"\"},\"baxis\":{\"gridcolor\":\"white\",\"linecolor\":\"white\",\"ticks\":\"\"},\"caxis\":{\"gridcolor\":\"white\",\"linecolor\":\"white\",\"ticks\":\"\"}},\"coloraxis\":{\"colorbar\":{\"outlinewidth\":0,\"ticks\":\"\"}},\"colorscale\":{\"sequential\":[[0.0,\"#0d0887\"],[0.1111111111111111,\"#46039f\"],[0.2222222222222222,\"#7201a8\"],[0.3333333333333333,\"#9c179e\"],[0.4444444444444444,\"#bd3786\"],[0.5555555555555556,\"#d8576b\"],[0.6666666666666666,\"#ed7953\"],[0.7777777777777778,\"#fb9f3a\"],[0.8888888888888888,\"#fdca26\"],[1.0,\"#f0f921\"]],\"sequentialminus\":[[0.0,\"#0d0887\"],[0.1111111111111111,\"#46039f\"],[0.2222222222222222,\"#7201a8\"],[0.3333333333333333,\"#9c179e\"],[0.4444444444444444,\"#bd3786\"],[0.5555555555555556,\"#d8576b\"],[0.6666666666666666,\"#ed7953\"],[0.7777777777777778,\"#fb9f3a\"],[0.8888888888888888,\"#fdca26\"],[1.0,\"#f0f921\"]],\"diverging\":[[0,\"#8e0152\"],[0.1,\"#c51b7d\"],[0.2,\"#de77ae\"],[0.3,\"#f1b6da\"],[0.4,\"#fde0ef\"],[0.5,\"#f7f7f7\"],[0.6,\"#e6f5d0\"],[0.7,\"#b8e186\"],[0.8,\"#7fbc41\"],[0.9,\"#4d9221\"],[1,\"#276419\"]]},\"xaxis\":{\"gridcolor\":\"white\",\"linecolor\":\"white\",\"ticks\":\"\",\"title\":{\"standoff\":15},\"zerolinecolor\":\"white\",\"automargin\":true,\"zerolinewidth\":2},\"yaxis\":{\"gridcolor\":\"white\",\"linecolor\":\"white\",\"ticks\":\"\",\"title\":{\"standoff\":15},\"zerolinecolor\":\"white\",\"automargin\":true,\"zerolinewidth\":2},\"scene\":{\"xaxis\":{\"backgroundcolor\":\"#E5ECF6\",\"gridcolor\":\"white\",\"linecolor\":\"white\",\"showbackground\":true,\"ticks\":\"\",\"zerolinecolor\":\"white\",\"gridwidth\":2},\"yaxis\":{\"backgroundcolor\":\"#E5ECF6\",\"gridcolor\":\"white\",\"linecolor\":\"white\",\"showbackground\":true,\"ticks\":\"\",\"zerolinecolor\":\"white\",\"gridwidth\":2},\"zaxis\":{\"backgroundcolor\":\"#E5ECF6\",\"gridcolor\":\"white\",\"linecolor\":\"white\",\"showbackground\":true,\"ticks\":\"\",\"zerolinecolor\":\"white\",\"gridwidth\":2}},\"shapedefaults\":{\"line\":{\"color\":\"#2a3f5f\"}},\"annotationdefaults\":{\"arrowcolor\":\"#2a3f5f\",\"arrowhead\":0,\"arrowwidth\":1},\"geo\":{\"bgcolor\":\"white\",\"landcolor\":\"#E5ECF6\",\"subunitcolor\":\"white\",\"showland\":true,\"showlakes\":true,\"lakecolor\":\"white\"},\"title\":{\"x\":0.05},\"mapbox\":{\"style\":\"light\"}}},\"geo\":{\"domain\":{\"x\":[0.0,1.0],\"y\":[0.0,1.0]},\"center\":{}},\"coloraxis\":{\"colorbar\":{\"title\":{\"text\":\"count\"}},\"colorscale\":[[0.0,\"rgb(255,245,240)\"],[0.125,\"rgb(254,224,210)\"],[0.25,\"rgb(252,187,161)\"],[0.375,\"rgb(252,146,114)\"],[0.5,\"rgb(251,106,74)\"],[0.625,\"rgb(239,59,44)\"],[0.75,\"rgb(203,24,29)\"],[0.875,\"rgb(165,15,21)\"],[1.0,\"rgb(103,0,13)\"]]},\"legend\":{\"tracegroupgap\":0},\"title\":{\"text\":\"Top Content Producing Countries\"}},                        {\"responsive\": true}                    ).then(function(){\n",
       "                            \n",
       "var gd = document.getElementById('7a09f808-678c-4b2f-8347-2711975bb7a1');\n",
       "var x = new MutationObserver(function (mutations, observer) {{\n",
       "        var display = window.getComputedStyle(gd).display;\n",
       "        if (!display || display === 'none') {{\n",
       "            console.log([gd, 'removed!']);\n",
       "            Plotly.purge(gd);\n",
       "            observer.disconnect();\n",
       "        }}\n",
       "}});\n",
       "\n",
       "// Listen for the removal of the full notebook cells\n",
       "var notebookContainer = gd.closest('#notebook-container');\n",
       "if (notebookContainer) {{\n",
       "    x.observe(notebookContainer, {childList: true});\n",
       "}}\n",
       "\n",
       "// Listen for the clearing of the current output cell\n",
       "var outputEl = gd.closest('.output');\n",
       "if (outputEl) {{\n",
       "    x.observe(outputEl, {childList: true});\n",
       "}}\n",
       "\n",
       "                        })                };                });            </script>        </div>"
      ]
     },
     "metadata": {},
     "output_type": "display_data"
    }
   ],
   "source": [
    "import plotly.express as px\n",
    "\n",
    "# Prepare data: Get country counts\n",
    "country_counts = df[\"country\"].value_counts().reset_index()\n",
    "country_counts.columns = [\"country\", \"count\"]  # Rename columns\n",
    "\n",
    "# Create a choropleth map\n",
    "fig = px.choropleth(\n",
    "    country_counts,\n",
    "    locations=\"country\",\n",
    "    locationmode=\"country names\",  # Ensures country names match\n",
    "    color=\"count\",\n",
    "    color_continuous_scale=\"Reds\",  # Adjust color scheme\n",
    "    title=\"Top Content Producing Countries\",\n",
    ")\n",
    "\n",
    "# Show the interactive map\n",
    "fig.show()\n"
   ]
  },
  {
   "cell_type": "markdown",
   "id": "2deb1bcb-7b4d-420e-ada5-b1701732f9e7",
   "metadata": {},
   "source": [
    "## Most featured actors/directors"
   ]
  },
  {
   "cell_type": "code",
   "execution_count": 41,
   "id": "46de671a-a86f-49cd-942d-e0fd132226d3",
   "metadata": {},
   "outputs": [
    {
     "name": "stdout",
     "output_type": "stream",
     "text": [
      "Top 5 Directors: [('Jan Suter,Raúl Campos', 11), ('Gabriel Sabloff,Bruce MacDonald', 9), ('Koichi Sakamoto,Charlie Haskell', 9), ('John Paul Tremblay', 8), ('John Voorhees,Coerte Voorhees', 8)]\n",
      "Top 5 Actors: [('Anupam Kher', 25), ('Andrea Libman', 24), ('Takahiro Sakurai', 24), ('Paresh Rawal', 21), ('Om Puri', 20)]\n"
     ]
    }
   ],
   "source": [
    "from collections import Counter\n",
    "\n",
    "directors = Counter(\n",
    "    \",\".join(df[\"director\"].dropna()).split(\", \")\n",
    ")\n",
    "actors = Counter(\n",
    "    \",\".join(df[\"cast\"].dropna()).split(\", \")\n",
    ")\n",
    "\n",
    "print(\"Top 5 Directors:\", directors.most_common(5))\n",
    "print(\"Top 5 Actors:\", actors.most_common(5))"
   ]
  },
  {
   "cell_type": "code",
   "execution_count": 42,
   "id": "96c1816e-b1cb-4648-b5c3-ea8e678bbe1a",
   "metadata": {},
   "outputs": [
    {
     "data": {
      "image/png": "[encoded data removed]",
      "text/plain": [
       "<Figure size 1000x500 with 1 Axes>"
      ]
     },
     "metadata": {},
     "output_type": "display_data"
    }
   ],
   "source": [
    "import matplotlib.pyplot as plt\n",
    "\n",
    "# Get top 10 directors\n",
    "top_directors = dict(directors.most_common(10))\n",
    "\n",
    "plt.figure(figsize=(10, 5))\n",
    "plt.barh(list(top_directors.keys()), list(top_directors.values()), color=\"skyblue\")\n",
    "plt.xlabel(\"Number of Movies\")\n",
    "plt.ylabel(\"Director\")\n",
    "plt.title(\"Top 10 Most Frequent Directors\")\n",
    "plt.gca().invert_yaxis()  # Flip to show highest at top\n",
    "plt.show()\n"
   ]
  },
  {
   "cell_type": "code",
   "execution_count": 43,
   "id": "90cf89c9-f7fa-4e1d-be4e-24b9d8ac3f90",
   "metadata": {},
   "outputs": [
    {
     "data": {
      "image/png": "[encoded data removed]",
      "text/plain": [
       "<Figure size 1000x500 with 1 Axes>"
      ]
     },
     "metadata": {},
     "output_type": "display_data"
    }
   ],
   "source": [
    "# Get top 10 actors\n",
    "top_actors = dict(actors.most_common(10))\n",
    "\n",
    "plt.figure(figsize=(10, 5))\n",
    "plt.barh(list(top_actors.keys()), list(top_actors.values()), color=\"salmon\")\n",
    "plt.xlabel(\"Number of Movies\")\n",
    "plt.ylabel(\"Actor\")\n",
    "plt.title(\"Top 10 Most Frequent Actors\")\n",
    "plt.gca().invert_yaxis()  # Flip to show highest at top\n",
    "plt.show()\n"
   ]
  },
  {
   "cell_type": "markdown",
   "id": "315d1050-b97c-4b2b-bd8e-533a2c3d0f55",
   "metadata": {},
   "source": [
    "## Content Released by Month 2019"
   ]
  },
  {
   "cell_type": "code",
   "execution_count": 44,
   "id": "a5d3ced8-b50f-4c2a-9535-f2f147a95a42",
   "metadata": {},
   "outputs": [
    {
     "data": {
      "image/png": "[encoded data removed]",
      "text/plain": [
       "<Figure size 1000x500 with 1 Axes>"
      ]
     },
     "metadata": {},
     "output_type": "display_data"
    }
   ],
   "source": [
    "import calendar\n",
    "import matplotlib.pyplot as plt\n",
    "\n",
    "# Convert 'date_added' to datetime if not already\n",
    "df[\"date_added\"] = pd.to_datetime(df[\"date_added\"])\n",
    "\n",
    "# Extract the month\n",
    "df[\"Month\"] = df[\"date_added\"].dt.month\n",
    "\n",
    "# Group and count titles per month\n",
    "monthly_counts = df.groupby(\"Month\")[\"title\"].count()\n",
    "\n",
    "# Plot with month names\n",
    "plt.figure(figsize=(10, 5))\n",
    "plt.plot(monthly_counts.index, monthly_counts.values, marker=\"o\", linestyle=\"-\", color=\"b\")\n",
    "plt.xticks(ticks=range(1, 13), labels=[calendar.month_name[i] for i in range(1, 13)], rotation=45)\n",
    "plt.xlabel(\"Month\")\n",
    "plt.ylabel(\"Content Count\")\n",
    "plt.title(\"Content Released by Month\")\n",
    "plt.grid(axis=\"y\", linestyle=\"--\", alpha=0.7)\n",
    "plt.show()\n"
   ]
  },
  {
   "cell_type": "markdown",
   "id": "c5603d87-a30d-4e32-bcf1-6a9a46cb6fbc",
   "metadata": {},
   "source": [
    "## Content release by season"
   ]
  },
  {
   "cell_type": "code",
   "execution_count": 45,
   "id": "5bbb6e89-5f5c-4f60-9d05-f6ca322fe314",
   "metadata": {},
   "outputs": [
    {
     "data": {
      "image/png": "[encoded data removed]",
      "text/plain": [
       "<Figure size 800x500 with 1 Axes>"
      ]
     },
     "metadata": {},
     "output_type": "display_data"
    }
   ],
   "source": [
    "\n",
    "# Convert 'date_added' to datetime (if not already)\n",
    "df[\"date_added\"] = pd.to_datetime(df[\"date_added\"], errors=\"coerce\")\n",
    "\n",
    "# Extract Month\n",
    "df[\"Month\"] = df[\"date_added\"].dt.month\n",
    "\n",
    "# Define Seasons Mapping\n",
    "def get_season(month):\n",
    "    if month in [12, 1, 2]:\n",
    "        return \"Winter\"\n",
    "    elif month in [3, 4, 5]:\n",
    "        return \"Spring\"\n",
    "    elif month in [6, 7, 8]:\n",
    "        return \"Summer\"\n",
    "    elif month in [9, 10, 11]:\n",
    "        return \"Fall\"\n",
    "    else:\n",
    "        return \"Unknown\"  # Handle NaN values\n",
    "\n",
    "# Apply Season Mapping\n",
    "df[\"Season\"] = df[\"Month\"].apply(get_season)\n",
    "\n",
    "# Count Titles per Season\n",
    "season_counts = df[\"Season\"].value_counts()\n",
    "\n",
    "# 📊 Plot the Season Distribution\n",
    "plt.figure(figsize=(8, 5))\n",
    "season_counts.loc[[\"Winter\", \"Spring\", \"Summer\", \"Fall\"]].plot(kind=\"bar\", color=[\"blue\", \"green\", \"orange\", \"red\"])\n",
    "plt.xlabel(\"Season\")\n",
    "plt.ylabel(\"Number of Titles Added\")\n",
    "plt.title(\"Netflix Content Releases by Season\")\n",
    "plt.xticks(rotation=0)\n",
    "plt.grid(axis=\"y\", linestyle=\"--\", alpha=0.7)\n",
    "plt.show()\n"
   ]
  },
  {
   "cell_type": "markdown",
   "id": "f8dc99dd-6789-419b-99ad-a63d4738425f",
   "metadata": {},
   "source": [
    "## Final cleaned csv contents"
   ]
  },
  {
   "cell_type": "code",
   "execution_count": 46,
   "id": "a8177cba-671c-41b1-9c2f-00c792ef4fe9",
   "metadata": {},
   "outputs": [
    {
     "data": {
      "text/html": [
       "<div>\n",
       "<style scoped>\n",
       "    .dataframe tbody tr th:only-of-type {\n",
       "        vertical-align: middle;\n",
       "    }\n",
       "\n",
       "    .dataframe tbody tr th {\n",
       "        vertical-align: top;\n",
       "    }\n",
       "\n",
       "    .dataframe thead th {\n",
       "        text-align: right;\n",
       "    }\n",
       "</style>\n",
       "<table border=\"1\" class=\"dataframe\">\n",
       "  <thead>\n",
       "    <tr style=\"text-align: right;\">\n",
       "      <th></th>\n",
       "      <th>show_id</th>\n",
       "      <th>title</th>\n",
       "      <th>director</th>\n",
       "      <th>cast</th>\n",
       "      <th>country</th>\n",
       "      <th>date_added</th>\n",
       "      <th>release_year</th>\n",
       "      <th>rating</th>\n",
       "      <th>duration</th>\n",
       "      <th>listed_in</th>\n",
       "      <th>description</th>\n",
       "      <th>type</th>\n",
       "      <th>Month</th>\n",
       "      <th>Season</th>\n",
       "    </tr>\n",
       "  </thead>\n",
       "  <tbody>\n",
       "    <tr>\n",
       "      <th>0</th>\n",
       "      <td>81193313</td>\n",
       "      <td>Chocolate</td>\n",
       "      <td>Netflix</td>\n",
       "      <td>Ha Ji-won, Yoon Kye-sang, Jang Seung-jo, Kang ...</td>\n",
       "      <td>South Korea</td>\n",
       "      <td>2019-11-30</td>\n",
       "      <td>2019</td>\n",
       "      <td>TV-14</td>\n",
       "      <td>1 Season</td>\n",
       "      <td>International TV Shows, Korean TV Shows, Roman...</td>\n",
       "      <td>Brought together by meaningful meals in the pa...</td>\n",
       "      <td>TV Show</td>\n",
       "      <td>11</td>\n",
       "      <td>Fall</td>\n",
       "    </tr>\n",
       "    <tr>\n",
       "      <th>1</th>\n",
       "      <td>81197050</td>\n",
       "      <td>Guatemala: Heart of the Mayan World</td>\n",
       "      <td>Luis Ara, Ignacio Jaunsolo</td>\n",
       "      <td>Christian Morales</td>\n",
       "      <td>Not Specified</td>\n",
       "      <td>2019-11-30</td>\n",
       "      <td>2019</td>\n",
       "      <td>TV-G</td>\n",
       "      <td>67 min</td>\n",
       "      <td>Documentaries, International Movies</td>\n",
       "      <td>From Sierra de las Minas to Esquipulas, explor...</td>\n",
       "      <td>Movie</td>\n",
       "      <td>11</td>\n",
       "      <td>Fall</td>\n",
       "    </tr>\n",
       "    <tr>\n",
       "      <th>2</th>\n",
       "      <td>81213894</td>\n",
       "      <td>The Zoya Factor</td>\n",
       "      <td>Abhishek Sharma</td>\n",
       "      <td>Sonam Kapoor, Dulquer Salmaan, Sanjay Kapoor, ...</td>\n",
       "      <td>India</td>\n",
       "      <td>2019-11-30</td>\n",
       "      <td>2019</td>\n",
       "      <td>TV-14</td>\n",
       "      <td>135 min</td>\n",
       "      <td>Comedies, Dramas, International Movies</td>\n",
       "      <td>A goofy copywriter unwittingly convinces the I...</td>\n",
       "      <td>Movie</td>\n",
       "      <td>11</td>\n",
       "      <td>Fall</td>\n",
       "    </tr>\n",
       "    <tr>\n",
       "      <th>3</th>\n",
       "      <td>81082007</td>\n",
       "      <td>Atlantics</td>\n",
       "      <td>Mati Diop</td>\n",
       "      <td>Mama Sane, Amadou Mbow, Ibrahima Traore, Nicol...</td>\n",
       "      <td>France, Senegal, Belgium</td>\n",
       "      <td>2019-11-29</td>\n",
       "      <td>2019</td>\n",
       "      <td>TV-14</td>\n",
       "      <td>106 min</td>\n",
       "      <td>Dramas, Independent Movies, International Movies</td>\n",
       "      <td>Arranged to marry a rich man, young Ada is cru...</td>\n",
       "      <td>Movie</td>\n",
       "      <td>11</td>\n",
       "      <td>Fall</td>\n",
       "    </tr>\n",
       "    <tr>\n",
       "      <th>4</th>\n",
       "      <td>80213643</td>\n",
       "      <td>Chip and Potato</td>\n",
       "      <td>Mati Diop</td>\n",
       "      <td>Abigail Oliver, Andrea Libman, Briana Buckmast...</td>\n",
       "      <td>Canada, United Kingdom</td>\n",
       "      <td>2019-11-29</td>\n",
       "      <td>2019</td>\n",
       "      <td>TV-Y</td>\n",
       "      <td>2 Seasons</td>\n",
       "      <td>Kids' TV</td>\n",
       "      <td>Lovable pug Chip starts kindergarten, makes ne...</td>\n",
       "      <td>TV Show</td>\n",
       "      <td>11</td>\n",
       "      <td>Fall</td>\n",
       "    </tr>\n",
       "    <tr>\n",
       "      <th>...</th>\n",
       "      <td>...</td>\n",
       "      <td>...</td>\n",
       "      <td>...</td>\n",
       "      <td>...</td>\n",
       "      <td>...</td>\n",
       "      <td>...</td>\n",
       "      <td>...</td>\n",
       "      <td>...</td>\n",
       "      <td>...</td>\n",
       "      <td>...</td>\n",
       "      <td>...</td>\n",
       "      <td>...</td>\n",
       "      <td>...</td>\n",
       "      <td>...</td>\n",
       "    </tr>\n",
       "    <tr>\n",
       "      <th>5832</th>\n",
       "      <td>70141644</td>\n",
       "      <td>Mad Ron's Prevues from Hell</td>\n",
       "      <td>Jim Monaco</td>\n",
       "      <td>Nick Pawlow, Jordu Schell, Jay Kushwara, Micha...</td>\n",
       "      <td>United States</td>\n",
       "      <td>2010-11-01</td>\n",
       "      <td>1987</td>\n",
       "      <td>NR</td>\n",
       "      <td>84 min</td>\n",
       "      <td>Cult Movies, Horror Movies</td>\n",
       "      <td>This collection cherry-picks trailers, forgott...</td>\n",
       "      <td>Movie</td>\n",
       "      <td>11</td>\n",
       "      <td>Fall</td>\n",
       "    </tr>\n",
       "    <tr>\n",
       "      <th>5833</th>\n",
       "      <td>70127998</td>\n",
       "      <td>Splatter</td>\n",
       "      <td>Joe Dante</td>\n",
       "      <td>Corey Feldman, Tony Todd, Tara Leigh, Erin Way...</td>\n",
       "      <td>United States</td>\n",
       "      <td>2009-11-18</td>\n",
       "      <td>2009</td>\n",
       "      <td>TV-14</td>\n",
       "      <td>29 min</td>\n",
       "      <td>Horror Movies</td>\n",
       "      <td>After committing suicide, a washed-up rocker r...</td>\n",
       "      <td>Movie</td>\n",
       "      <td>11</td>\n",
       "      <td>Fall</td>\n",
       "    </tr>\n",
       "    <tr>\n",
       "      <th>5834</th>\n",
       "      <td>70084180</td>\n",
       "      <td>Just Another Love Story</td>\n",
       "      <td>Ole Bornedal</td>\n",
       "      <td>Anders W. Berthelsen, Rebecka Hemse, Nikolaj L...</td>\n",
       "      <td>Denmark</td>\n",
       "      <td>2009-05-05</td>\n",
       "      <td>2007</td>\n",
       "      <td>NR</td>\n",
       "      <td>104 min</td>\n",
       "      <td>Dramas, International Movies</td>\n",
       "      <td>When he causes a car accident that leaves a yo...</td>\n",
       "      <td>Movie</td>\n",
       "      <td>5</td>\n",
       "      <td>Spring</td>\n",
       "    </tr>\n",
       "    <tr>\n",
       "      <th>5835</th>\n",
       "      <td>70157452</td>\n",
       "      <td>Dinner for Five</td>\n",
       "      <td>Ole Bornedal</td>\n",
       "      <td>Anders W. Berthelsen, Rebecka Hemse, Nikolaj L...</td>\n",
       "      <td>United States</td>\n",
       "      <td>2008-02-04</td>\n",
       "      <td>2007</td>\n",
       "      <td>TV-MA</td>\n",
       "      <td>1 Season</td>\n",
       "      <td>Stand-Up Comedy &amp; Talk Shows</td>\n",
       "      <td>In each episode, four celebrities join host Jo...</td>\n",
       "      <td>TV Show</td>\n",
       "      <td>2</td>\n",
       "      <td>Winter</td>\n",
       "    </tr>\n",
       "    <tr>\n",
       "      <th>5836</th>\n",
       "      <td>70053412</td>\n",
       "      <td>To and From New York</td>\n",
       "      <td>Sorin Dan Mihalcescu</td>\n",
       "      <td>Barbara King, Shaana Diya, John Krisiukenas, Y...</td>\n",
       "      <td>United States</td>\n",
       "      <td>2008-01-01</td>\n",
       "      <td>2006</td>\n",
       "      <td>NR</td>\n",
       "      <td>81 min</td>\n",
       "      <td>Dramas, Independent Movies, Thrillers</td>\n",
       "      <td>While covering a story in New York City, a Sea...</td>\n",
       "      <td>Movie</td>\n",
       "      <td>1</td>\n",
       "      <td>Winter</td>\n",
       "    </tr>\n",
       "  </tbody>\n",
       "</table>\n",
       "<p>5837 rows × 14 columns</p>\n",
       "</div>"
      ],
      "text/plain": [
       "       show_id                                title  \\\n",
       "0     81193313                            Chocolate   \n",
       "1     81197050  Guatemala: Heart of the Mayan World   \n",
       "2     81213894                      The Zoya Factor   \n",
       "3     81082007                            Atlantics   \n",
       "4     80213643                      Chip and Potato   \n",
       "...        ...                                  ...   \n",
       "5832  70141644          Mad Ron's Prevues from Hell   \n",
       "5833  70127998                             Splatter   \n",
       "5834  70084180              Just Another Love Story   \n",
       "5835  70157452                      Dinner for Five   \n",
       "5836  70053412                 To and From New York   \n",
       "\n",
       "                        director  \\\n",
       "0                        Netflix   \n",
       "1     Luis Ara, Ignacio Jaunsolo   \n",
       "2                Abhishek Sharma   \n",
       "3                      Mati Diop   \n",
       "4                      Mati Diop   \n",
       "...                          ...   \n",
       "5832                  Jim Monaco   \n",
       "5833                   Joe Dante   \n",
       "5834                Ole Bornedal   \n",
       "5835                Ole Bornedal   \n",
       "5836        Sorin Dan Mihalcescu   \n",
       "\n",
       "                                                   cast  \\\n",
       "0     Ha Ji-won, Yoon Kye-sang, Jang Seung-jo, Kang ...   \n",
       "1                                     Christian Morales   \n",
       "2     Sonam Kapoor, Dulquer Salmaan, Sanjay Kapoor, ...   \n",
       "3     Mama Sane, Amadou Mbow, Ibrahima Traore, Nicol...   \n",
       "4     Abigail Oliver, Andrea Libman, Briana Buckmast...   \n",
       "...                                                 ...   \n",
       "5832  Nick Pawlow, Jordu Schell, Jay Kushwara, Micha...   \n",
       "5833  Corey Feldman, Tony Todd, Tara Leigh, Erin Way...   \n",
       "5834  Anders W. Berthelsen, Rebecka Hemse, Nikolaj L...   \n",
       "5835  Anders W. Berthelsen, Rebecka Hemse, Nikolaj L...   \n",
       "5836  Barbara King, Shaana Diya, John Krisiukenas, Y...   \n",
       "\n",
       "                       country date_added  release_year rating   duration  \\\n",
       "0                  South Korea 2019-11-30          2019  TV-14   1 Season   \n",
       "1                Not Specified 2019-11-30          2019   TV-G     67 min   \n",
       "2                        India 2019-11-30          2019  TV-14    135 min   \n",
       "3     France, Senegal, Belgium 2019-11-29          2019  TV-14    106 min   \n",
       "4       Canada, United Kingdom 2019-11-29          2019   TV-Y  2 Seasons   \n",
       "...                        ...        ...           ...    ...        ...   \n",
       "5832             United States 2010-11-01          1987     NR     84 min   \n",
       "5833             United States 2009-11-18          2009  TV-14     29 min   \n",
       "5834                   Denmark 2009-05-05          2007     NR    104 min   \n",
       "5835             United States 2008-02-04          2007  TV-MA   1 Season   \n",
       "5836             United States 2008-01-01          2006     NR     81 min   \n",
       "\n",
       "                                              listed_in  \\\n",
       "0     International TV Shows, Korean TV Shows, Roman...   \n",
       "1                   Documentaries, International Movies   \n",
       "2                Comedies, Dramas, International Movies   \n",
       "3      Dramas, Independent Movies, International Movies   \n",
       "4                                              Kids' TV   \n",
       "...                                                 ...   \n",
       "5832                         Cult Movies, Horror Movies   \n",
       "5833                                      Horror Movies   \n",
       "5834                       Dramas, International Movies   \n",
       "5835                       Stand-Up Comedy & Talk Shows   \n",
       "5836              Dramas, Independent Movies, Thrillers   \n",
       "\n",
       "                                            description     type  Month  \\\n",
       "0     Brought together by meaningful meals in the pa...  TV Show     11   \n",
       "1     From Sierra de las Minas to Esquipulas, explor...    Movie     11   \n",
       "2     A goofy copywriter unwittingly convinces the I...    Movie     11   \n",
       "3     Arranged to marry a rich man, young Ada is cru...    Movie     11   \n",
       "4     Lovable pug Chip starts kindergarten, makes ne...  TV Show     11   \n",
       "...                                                 ...      ...    ...   \n",
       "5832  This collection cherry-picks trailers, forgott...    Movie     11   \n",
       "5833  After committing suicide, a washed-up rocker r...    Movie     11   \n",
       "5834  When he causes a car accident that leaves a yo...    Movie      5   \n",
       "5835  In each episode, four celebrities join host Jo...  TV Show      2   \n",
       "5836  While covering a story in New York City, a Sea...    Movie      1   \n",
       "\n",
       "      Season  \n",
       "0       Fall  \n",
       "1       Fall  \n",
       "2       Fall  \n",
       "3       Fall  \n",
       "4       Fall  \n",
       "...      ...  \n",
       "5832    Fall  \n",
       "5833    Fall  \n",
       "5834  Spring  \n",
       "5835  Winter  \n",
       "5836  Winter  \n",
       "\n",
       "[5837 rows x 14 columns]"
      ]
     },
     "execution_count": 46,
     "metadata": {},
     "output_type": "execute_result"
    }
   ],
   "source": [
    "df"
   ]
  },
  {
   "cell_type": "code",
   "execution_count": 47,
   "id": "2ae6e28f-61a3-42ff-bae2-8a0d6929e336",
   "metadata": {},
   "outputs": [],
   "source": [
    "df.to_csv(\"cleaned_netflix_data.csv\", index=False)"
   ]
  },
  {
   "cell_type": "code",
   "execution_count": null,
   "id": "48bf825f-496b-4054-91f5-cebc898e11b5",
   "metadata": {},
   "outputs": [],
   "source": []
  }
 ],
 "metadata": {
  "kernelspec": {
   "display_name": "Python 3 (ipykernel)",
   "language": "python",
   "name": "python3"
  },
  "language_info": {
   "codemirror_mode": {
    "name": "ipython",
    "version": 3
   },
   "file_extension": ".py",
   "mimetype": "text/x-python",
   "name": "python",
   "nbconvert_exporter": "python",
   "pygments_lexer": "ipython3",
   "version": "3.11.7"
  }
 },
 "nbformat": 4,
 "nbformat_minor": 5
}
